{
 "cells": [
  {
   "cell_type": "code",
   "execution_count": 42,
   "metadata": {},
   "outputs": [
    {
     "name": "stderr",
     "output_type": "stream",
     "text": [
      "100%|██████████| 1/1 [00:00<00:00, 489.19it/s]"
     ]
    },
    {
     "name": "stdout",
     "output_type": "stream",
     "text": [
      "corpus 생성\n",
      "학습 중\n"
     ]
    },
    {
     "name": "stderr",
     "output_type": "stream",
     "text": [
      "\n"
     ]
    },
    {
     "name": "stdout",
     "output_type": "stream",
     "text": [
      "Loss after epoch 0: 253678.734375\n",
      "Loss after epoch 1: 237348.734375\n",
      "Loss after epoch 2: 180854.65625\n",
      "Loss after epoch 3: 167054.625\n",
      "Loss after epoch 4: 164094.25\n",
      "완료\n"
     ]
    }
   ],
   "source": [
    "from gensim.models import Word2Vec \n",
    "from gensim.models.callbacks import CallbackAny2Vec \n",
    "from tqdm import tqdm \n",
    "\n",
    "corpus_fname = \"C://Users//ljy01//Desktop//soynlp_okt_crawl_title.txt\" \n",
    "model_fname = \"C://Users//ljy01//Desktop\"\n",
    "\n",
    "class callback(CallbackAny2Vec): \n",
    "    \"\"\"Callback to print loss after each epoch.\"\"\"\n",
    "    \n",
    "    def __init__(self): \n",
    "        self.epoch = 0 \n",
    "        self.loss_to_be_subed = 0 \n",
    "    \n",
    "    def on_epoch_end(self, model):\n",
    "        loss = model.get_latest_training_loss()\n",
    "        loss_now = loss - self.loss_to_be_subed \n",
    "        self.loss_to_be_subed = loss \n",
    "        print('Loss after epoch {}: {}'.format(self.epoch, loss_now)) \n",
    "        self.epoch += 1\n",
    "\n",
    "print('corpus 생성') \n",
    "corpus = [sent.strip().split(\" \") for sent in tqdm(open(corpus_fname, 'r', encoding='utf-8').readlines())]\n",
    "\n",
    "print(\"학습 중\") \n",
    "model = Word2Vec(corpus, size=100, workers=4, sg=1, compute_loss=True, iter=5, callbacks=[callback()]) \n",
    "model.save(\"word2vectest\") \n",
    "print('완료')\n"
   ]
  },
  {
   "cell_type": "code",
   "execution_count": 1,
   "metadata": {},
   "outputs": [],
   "source": [
    "from gensim.models import word2vec \n",
    "# 모델을 로딩하여 가장 유사한 단어를 출력 \n",
    "\n",
    "model = Word2Vec.load(\"word2vectest\")\n",
    "\n",
    "print(model.most_similar(positive=[\"캘린더\"]))"
   ]
  },
  {
   "cell_type": "code",
   "execution_count": 49,
   "metadata": {},
   "outputs": [
    {
     "name": "stdout",
     "output_type": "stream",
     "text": [
      "Word2Vec Modeling finished\n"
     ]
    }
   ],
   "source": [
    "import csv\n",
    "from konlpy.tag import Okt\n",
    "from gensim.models import word2vec\n",
    "\n",
    " #네이버 영화 코퍼스를 읽는다.\n",
    "f = open('crawl_title.txt', 'r', encoding='utf-8')\n",
    "rdr = csv.reader(f, delimiter='\\t')\n",
    "rdw = list(rdr)\n",
    "f.close()\n",
    "\n",
    " #트위터 형태소 분석기를 로드한다. Twiter가 KoNLPy v0.4.5 부터 Okt로 변경 되었다.\n",
    "twitter = Okt()\n",
    "\n",
    " #텍스트를 한줄씩 처리합니다.\n",
    "result = []\n",
    "for line in rdw:\n",
    "     #형태소 분석하기, 단어 기본형 사용\n",
    "    malist = twitter.pos(line[0], norm=True, stem=True)\n",
    "    r = []\n",
    "    for word in malist:\n",
    "         #Josa”, “Eomi”, “'Punctuation” 는 제외하고 처리\n",
    "        if not word[1] in [\"Josa\",\"Eomi\",\"Punctuation\"]:\n",
    "            r.append(word[0])\n",
    "     #형태소 사이에 공백 \" \"  을 넣습니다. 그리고 양쪽 공백을 지웁니다.\n",
    "    rl = (\" \".join(r)).strip()\n",
    "    result.append(rl)\n",
    "    #print(rl)\n",
    "\n",
    " #형태소들을 별도의 파일로 저장 합니다.\n",
    "with open(\"NaverMovie.nlp\",'w', encoding='utf-8') as fp:\n",
    "    fp.write(\"\\n\".join(result))\n",
    "\n",
    " #Word2Vec 모델 만들기\n",
    "wData = word2vec.LineSentence(\"NaverMovie.nlp\")\n",
    "wModel =word2vec.Word2Vec(wData, size=200, window=10, hs=1, min_count=2, sg=1)\n",
    "wModel.save(\"NaverMovie.model\")\n",
    "print(\"Word2Vec Modeling finished\")"
   ]
  },
  {
   "cell_type": "code",
   "execution_count": 53,
   "metadata": {},
   "outputs": [
    {
     "name": "stdout",
     "output_type": "stream",
     "text": [
      "[('엽서', 0.9688131213188171), ('탁상', 0.9505974054336548), ('멸종', 0.9496140480041504), ('행복하다', 0.9484710693359375), ('작다', 0.9478427767753601), ('귀엽다', 0.9435371160507202), ('고양이', 0.9425215125083923), ('캐릭터', 0.9415180683135986), ('민화', 0.9402183294296265), ('세밀화', 0.9368650913238525)]\n"
     ]
    },
    {
     "name": "stderr",
     "output_type": "stream",
     "text": [
      "<ipython-input-53-6b824c2eb83e>:5: DeprecationWarning: Call to deprecated `most_similar` (Method will be removed in 4.0.0, use self.wv.most_similar() instead).\n",
      "  print(model.most_similar(positive=[\"동물\"]))\n"
     ]
    }
   ],
   "source": [
    "from gensim.models import word2vec\n",
    "\n",
    "model = word2vec.Word2Vec.load(\"NaverMovie.model\")\n",
    "\n",
    "print(model.most_similar(positive=[\"동물\"]))\n"
   ]
  },
  {
   "cell_type": "code",
   "execution_count": 54,
   "metadata": {},
   "outputs": [
    {
     "name": "stdout",
     "output_type": "stream",
     "text": [
      "[('달력', 0.9676070809364319), ('2021', 0.9596381187438965), ('2021년', 0.9443133473396301), ('다이어리', 0.940584659576416), ('포스터', 0.9146442413330078), ('브릭', 0.9102934002876282), ('패', 0.8989502787590027), ('엽서', 0.8869016170501709), ('탁상', 0.8809903264045715), ('동물', 0.8800481557846069)]\n"
     ]
    },
    {
     "name": "stderr",
     "output_type": "stream",
     "text": [
      "<ipython-input-54-c8ac0285fcd1>:5: DeprecationWarning: Call to deprecated `most_similar` (Method will be removed in 4.0.0, use self.wv.most_similar() instead).\n",
      "  print(model.most_similar(positive=[\"캘린더\"]))\n"
     ]
    }
   ],
   "source": [
    "from gensim.models import word2vec\n",
    "\n",
    "model = word2vec.Word2Vec.load(\"NaverMovie.model\")\n",
    "\n",
    "print(model.most_similar(positive=[\"캘린더\"]))"
   ]
  },
  {
   "cell_type": "code",
   "execution_count": 55,
   "metadata": {},
   "outputs": [
    {
     "name": "stdout",
     "output_type": "stream",
     "text": [
      "[('붓기', 0.9329110980033875), ('베개', 0.9289680123329163), ('젤', 0.9061190485954285), ('케어', 0.9001691341400146), ('10억', 0.894999086856842), ('베타', 0.8924442529678345), ('신소재', 0.8679755926132202), ('찜질', 0.8639678359031677), ('피부', 0.8582063913345337), ('워치', 0.856261134147644)]\n"
     ]
    },
    {
     "name": "stderr",
     "output_type": "stream",
     "text": [
      "<ipython-input-55-07ac72adf1af>:5: DeprecationWarning: Call to deprecated `most_similar` (Method will be removed in 4.0.0, use self.wv.most_similar() instead).\n",
      "  print(model.most_similar(positive=[\"다리\"]))\n"
     ]
    }
   ],
   "source": [
    "from gensim.models import word2vec\n",
    "\n",
    "model = word2vec.Word2Vec.load(\"NaverMovie.model\")\n",
    "\n",
    "print(model.most_similar(positive=[\"다리\"]))"
   ]
  },
  {
   "cell_type": "code",
   "execution_count": 56,
   "metadata": {},
   "outputs": [
    {
     "name": "stdout",
     "output_type": "stream",
     "text": [
      "[('오래', 0.9599667191505432), ('머리', 0.9571127891540527), ('퍼즐', 0.9565631151199341), ('OK', 0.9553537964820862), ('똑똑하다', 0.9553167819976807), ('트렌디', 0.9547390937805176), ('퍼펙트', 0.9528980255126953), ('애용', 0.9528127908706665), ('잡다', 0.9522223472595215), ('기준', 0.9518344402313232)]\n"
     ]
    },
    {
     "name": "stderr",
     "output_type": "stream",
     "text": [
      "<ipython-input-56-ff3d121c7800>:5: DeprecationWarning: Call to deprecated `most_similar` (Method will be removed in 4.0.0, use self.wv.most_similar() instead).\n",
      "  print(model.most_similar(positive=[\"카드\"]))\n"
     ]
    }
   ],
   "source": [
    "#?\n",
    "from gensim.models import word2vec\n",
    "\n",
    "model = word2vec.Word2Vec.load(\"NaverMovie.model\")\n",
    "\n",
    "print(model.most_similar(positive=[\"카드\"]))"
   ]
  },
  {
   "cell_type": "code",
   "execution_count": 57,
   "metadata": {},
   "outputs": [
    {
     "name": "stdout",
     "output_type": "stream",
     "text": [
      "[('수명', 0.9832472801208496), ('용기', 0.9812917709350586), ('전격', 0.9801954030990601), ('캡', 0.9798197150230408), ('유일하다', 0.9781824350357056), ('A', 0.9779541492462158), ('립밤', 0.9777792692184448), ('기어', 0.9775192737579346), ('버블', 0.9767321944236755), ('고등학생', 0.9766859412193298)]\n"
     ]
    },
    {
     "name": "stderr",
     "output_type": "stream",
     "text": [
      "<ipython-input-57-4077dc066987>:5: DeprecationWarning: Call to deprecated `most_similar` (Method will be removed in 4.0.0, use self.wv.most_similar() instead).\n",
      "  print(model.most_similar(positive=[\"보드게임\"]))\n"
     ]
    }
   ],
   "source": [
    "#?\n",
    "from gensim.models import word2vec\n",
    "\n",
    "model = word2vec.Word2Vec.load(\"NaverMovie.model\")\n",
    "\n",
    "print(model.most_similar(positive=[\"보드게임\"]))"
   ]
  },
  {
   "cell_type": "code",
   "execution_count": 58,
   "metadata": {},
   "outputs": [
    {
     "name": "stdout",
     "output_type": "stream",
     "text": [
      "[('7일', 0.9138882160186768), ('메이크업', 0.9127625823020935), ('평점', 0.9112270474433899), ('가구', 0.9054870009422302), ('서포터', 0.8996933102607727), ('7', 0.8983745574951172), ('2.5억', 0.8976075649261475), ('채널', 0.8968647718429565), ('in', 0.8948369026184082), ('글로벌', 0.8948368430137634)]\n"
     ]
    },
    {
     "name": "stderr",
     "output_type": "stream",
     "text": [
      "<ipython-input-58-87c7f997f3b4>:5: DeprecationWarning: Call to deprecated `most_similar` (Method will be removed in 4.0.0, use self.wv.most_similar() instead).\n",
      "  print(model.most_similar(positive=[\"차\"]))\n"
     ]
    }
   ],
   "source": [
    "#?\n",
    "from gensim.models import word2vec\n",
    "\n",
    "model = word2vec.Word2Vec.load(\"NaverMovie.model\")\n",
    "\n",
    "print(model.most_similar(positive=[\"차\"]))"
   ]
  },
  {
   "cell_type": "code",
   "execution_count": 59,
   "metadata": {},
   "outputs": [
    {
     "name": "stdout",
     "output_type": "stream",
     "text": [
      "[('블루투스', 0.9905338287353516), ('강력하다', 0.9901410937309265), ('잠자리', 0.9898214340209961), ('세금', 0.9897092580795288), ('박사', 0.9896110892295837), ('인정', 0.9892855286598206), ('way', 0.9890749454498291), ('레', 0.9889070391654968), ('가시다', 0.9884677529335022), ('레이저', 0.9884166121482849)]\n"
     ]
    },
    {
     "name": "stderr",
     "output_type": "stream",
     "text": [
      "<ipython-input-59-d58a06c9775d>:5: DeprecationWarning: Call to deprecated `most_similar` (Method will be removed in 4.0.0, use self.wv.most_similar() instead).\n",
      "  print(model.most_similar(positive=[\"스킨\"]))\n"
     ]
    }
   ],
   "source": [
    "#?\n",
    "from gensim.models import word2vec\n",
    "\n",
    "model = word2vec.Word2Vec.load(\"NaverMovie.model\")\n",
    "\n",
    "print(model.most_similar(positive=[\"스킨\"]))"
   ]
  },
  {
   "cell_type": "code",
   "execution_count": 61,
   "metadata": {},
   "outputs": [
    {
     "name": "stdout",
     "output_type": "stream",
     "text": [
      "[('왕궁', 0.977597713470459), ('배경', 0.9756027460098267), ('주거', 0.9730058908462524), ('주택가', 0.9676722288131714), ('마을', 0.9646352529525757), ('거리', 0.9626117944717407), ('판타지', 0.9621046781539917), ('스케치업', 0.9593470096588135), ('브러쉬', 0.9589604139328003), ('Set', 0.9582035541534424)]\n"
     ]
    },
    {
     "name": "stderr",
     "output_type": "stream",
     "text": [
      "<ipython-input-61-a8e147c4676e>:5: DeprecationWarning: Call to deprecated `most_similar` (Method will be removed in 4.0.0, use self.wv.most_similar() instead).\n",
      "  print(model.most_similar(positive=[\"웹툰\"]))\n"
     ]
    }
   ],
   "source": [
    "#best\n",
    "from gensim.models import word2vec\n",
    "\n",
    "model = word2vec.Word2Vec.load(\"NaverMovie.model\")\n",
    "\n",
    "print(model.most_similar(positive=[\"웹툰\"]))"
   ]
  },
  {
   "cell_type": "code",
   "execution_count": 63,
   "metadata": {},
   "outputs": [
    {
     "name": "stdout",
     "output_type": "stream",
     "text": [
      "[('반지', 0.9731241464614868), ('각인', 0.9649582505226135), ('샴페인', 0.9614742398262024), ('골드', 0.9587106108665466), ('유기', 0.9585868120193481), ('다이아', 0.9554438591003418), ('아이', 0.9513608813285828), ('남자', 0.9506801962852478), ('석', 0.9486104846000671), ('홍삼', 0.9475563168525696)]\n"
     ]
    },
    {
     "name": "stderr",
     "output_type": "stream",
     "text": [
      "<ipython-input-63-4a68f8c68e02>:5: DeprecationWarning: Call to deprecated `most_similar` (Method will be removed in 4.0.0, use self.wv.most_similar() instead).\n",
      "  print(model.most_similar(positive=[\"목걸이\"]))\n"
     ]
    }
   ],
   "source": [
    "#best\n",
    "from gensim.models import word2vec\n",
    "\n",
    "model = word2vec.Word2Vec.load(\"NaverMovie.model\")\n",
    "\n",
    "print(model.most_similar(positive=[\"목걸이\"]))"
   ]
  },
  {
   "cell_type": "code",
   "execution_count": 64,
   "metadata": {},
   "outputs": [
    {
     "name": "stdout",
     "output_type": "stream",
     "text": [
      "[('숙성', 0.9863855242729187), ('백호', 0.984298050403595), ('Cygne', 0.9809882640838623), ('클린', 0.9793176651000977), ('텍사스', 0.9774743318557739), ('Collection', 0.9765974283218384), ('페미니즘', 0.9752349853515625), ('장착', 0.9751602411270142), ('메다', 0.9741865396499634), ('유목민', 0.9740418195724487)]\n"
     ]
    },
    {
     "name": "stderr",
     "output_type": "stream",
     "text": [
      "<ipython-input-64-999ad554b78f>:5: DeprecationWarning: Call to deprecated `most_similar` (Method will be removed in 4.0.0, use self.wv.most_similar() instead).\n",
      "  print(model.most_similar(positive=[\"스테이크\"]))\n"
     ]
    }
   ],
   "source": [
    "#?\n",
    "from gensim.models import word2vec\n",
    "\n",
    "model = word2vec.Word2Vec.load(\"NaverMovie.model\")\n",
    "\n",
    "print(model.most_similar(positive=[\"스테이크\"]))"
   ]
  },
  {
   "cell_type": "code",
   "execution_count": 65,
   "metadata": {},
   "outputs": [
    {
     "name": "stdout",
     "output_type": "stream",
     "text": [
      "[('평점', 0.9319952726364136), ('펀딩', 0.9241651296615601), ('5.0', 0.9232791066169739), ('점', 0.8989824056625366), ('4.9', 0.8969770669937134), ('만족도', 0.8807529211044312), ('올인원', 0.8779879212379456), ('마지막', 0.8769078850746155), ('글로벌', 0.8763915300369263), ('차', 0.8696271181106567)]\n"
     ]
    },
    {
     "name": "stderr",
     "output_type": "stream",
     "text": [
      "<ipython-input-65-5a3960a07f19>:5: DeprecationWarning: Call to deprecated `most_similar` (Method will be removed in 4.0.0, use self.wv.most_similar() instead).\n",
      "  print(model.most_similar(positive=[\"앵콜\"]))\n"
     ]
    }
   ],
   "source": [
    "from gensim.models import word2vec\n",
    "\n",
    "model = word2vec.Word2Vec.load(\"NaverMovie.model\")\n",
    "\n",
    "print(model.most_similar(positive=[\"앵콜\"]))"
   ]
  },
  {
   "cell_type": "code",
   "execution_count": 67,
   "metadata": {},
   "outputs": [
    {
     "name": "stdout",
     "output_type": "stream",
     "text": [
      "[('텀블러', 0.9694859981536865), ('모드', 0.9686149954795837), ('미니', 0.9681757688522339), ('링', 0.9678717851638794), ('지폐', 0.9676862955093384), ('열다', 0.9650057554244995), ('아이스크림', 0.9622641801834106), ('캐리어', 0.9618242979049683), ('넣다', 0.959297776222229), ('볼캡', 0.9591668844223022)]\n"
     ]
    },
    {
     "name": "stderr",
     "output_type": "stream",
     "text": [
      "<ipython-input-67-fa9245a53b8f>:5: DeprecationWarning: Call to deprecated `most_similar` (Method will be removed in 4.0.0, use self.wv.most_similar() instead).\n",
      "  print(model.most_similar(positive=[\"지갑\"]))\n"
     ]
    }
   ],
   "source": [
    "from gensim.models import word2vec\n",
    "\n",
    "model = word2vec.Word2Vec.load(\"NaverMovie.model\")\n",
    "\n",
    "print(model.most_similar(positive=[\"지갑\"]))"
   ]
  },
  {
   "cell_type": "code",
   "execution_count": 68,
   "metadata": {},
   "outputs": [
    {
     "name": "stdout",
     "output_type": "stream",
     "text": [
      "[('반한', 0.9762638211250305), ('4만원', 0.9738167524337769), ('대에', 0.9675253033638), ('더욱', 0.966478705406189), ('새롭다', 0.9660983085632324), ('8천원', 0.9624350070953369), ('거치', 0.9621759653091431), ('경력', 0.9616386890411377), ('뭐', 0.961618185043335), ('친환경', 0.9614999294281006)]\n"
     ]
    },
    {
     "name": "stderr",
     "output_type": "stream",
     "text": [
      "<ipython-input-68-6f94c32ed124>:5: DeprecationWarning: Call to deprecated `most_similar` (Method will be removed in 4.0.0, use self.wv.most_similar() instead).\n",
      "  print(model.most_similar(positive=[\"구두\"]))\n"
     ]
    }
   ],
   "source": [
    "from gensim.models import word2vec\n",
    "\n",
    "model = word2vec.Word2Vec.load(\"NaverMovie.model\")\n",
    "\n",
    "print(model.most_similar(positive=[\"구두\"]))"
   ]
  },
  {
   "cell_type": "code",
   "execution_count": null,
   "metadata": {},
   "outputs": [],
   "source": []
  }
 ],
 "metadata": {
  "kernelspec": {
   "display_name": "Python 3",
   "language": "python",
   "name": "python3"
  },
  "language_info": {
   "codemirror_mode": {
    "name": "ipython",
    "version": 3
   },
   "file_extension": ".py",
   "mimetype": "text/x-python",
   "name": "python",
   "nbconvert_exporter": "python",
   "pygments_lexer": "ipython3",
   "version": "3.8.3"
  }
 },
 "nbformat": 4,
 "nbformat_minor": 4
}
