{
 "cells": [
  {
   "cell_type": "code",
   "execution_count": 42,
   "metadata": {},
   "outputs": [
    {
     "name": "stderr",
     "output_type": "stream",
     "text": [
      "100%|██████████| 1/1 [00:00<00:00, 489.19it/s]"
     ]
    },
    {
     "name": "stdout",
     "output_type": "stream",
     "text": [
      "corpus 생성\n",
      "학습 중\n"
     ]
    },
    {
     "name": "stderr",
     "output_type": "stream",
     "text": [
      "\n"
     ]
    },
    {
     "name": "stdout",
     "output_type": "stream",
     "text": [
      "Loss after epoch 0: 253678.734375\n",
      "Loss after epoch 1: 237348.734375\n",
      "Loss after epoch 2: 180854.65625\n",
      "Loss after epoch 3: 167054.625\n",
      "Loss after epoch 4: 164094.25\n",
      "완료\n"
     ]
    }
   ],
   "source": [
    "from gensim.models import Word2Vec \n",
    "from gensim.models.callbacks import CallbackAny2Vec \n",
    "from tqdm import tqdm \n",
    "\n",
    "corpus_fname = \"C://Users//ljy01//Desktop//soynlp_okt_crawl_title.txt\" \n",
    "model_fname = \"C://Users//ljy01//Desktop\"\n",
    "\n",
    "class callback(CallbackAny2Vec): \n",
    "    \"\"\"Callback to print loss after each epoch.\"\"\"\n",
    "    \n",
    "    def __init__(self): \n",
    "        self.epoch = 0 \n",
    "        self.loss_to_be_subed = 0 \n",
    "    \n",
    "    def on_epoch_end(self, model):\n",
    "        loss = model.get_latest_training_loss()\n",
    "        loss_now = loss - self.loss_to_be_subed \n",
    "        self.loss_to_be_subed = loss \n",
    "        print('Loss after epoch {}: {}'.format(self.epoch, loss_now)) \n",
    "        self.epoch += 1\n",
    "\n",
    "print('corpus 생성') \n",
    "corpus = [sent.strip().split(\" \") for sent in tqdm(open(corpus_fname, 'r', encoding='utf-8').readlines())]\n",
    "\n",
    "print(\"학습 중\") \n",
    "model = Word2Vec(corpus, size=100, workers=4, sg=1, compute_loss=True, iter=5, callbacks=[callback()]) \n",
    "model.save(\"word2vectest\") \n",
    "print('완료')\n"
   ]
  },
  {
   "cell_type": "code",
   "execution_count": 1,
   "metadata": {},
   "outputs": [],
   "source": [
    "from gensim.models import word2vec \n",
    "# 모델을 로딩하여 가장 유사한 단어를 출력 \n",
    "\n",
    "\n",
    "model = Word2Vec.load(\"word2vectest\")\n",
    "\n",
    "print(model.most_similar(positive=[\"캘린더\"]))\n"
   ]
  },
  {
   "cell_type": "code",
   "execution_count": 1,
   "metadata": {},
   "outputs": [
    {
     "name": "stdout",
     "output_type": "stream",
     "text": [
      "Word2Vec Modeling finished\n"
     ]
    }
   ],
   "source": [
    "import csv\n",
    "from konlpy.tag import Okt\n",
    "from gensim.models import word2vec\n",
    "\n",
    " #네이버 영화 코퍼스를 읽는다.\n",
    "f = open('crawl_title.txt', 'r', encoding='utf-8')\n",
    "rdr = csv.reader(f, delimiter='\\t')\n",
    "rdw = list(rdr)\n",
    "f.close()\n",
    "\n",
    " #트위터 형태소 분석기를 로드한다. Twiter가 KoNLPy v0.4.5 부터 Okt로 변경 되었다.\n",
    "twitter = Okt()\n",
    "\n",
    " #텍스트를 한줄씩 처리합니다.\n",
    "result = []\n",
    "for line in rdw:\n",
    "     #형태소 분석하기, 단어 기본형 사용\n",
    "    malist = twitter.pos(line[0], norm=True, stem=True)\n",
    "    r = []\n",
    "    for word in malist:\n",
    "         #Josa”, “Eomi”, “'Punctuation” 는 제외하고 처리\n",
    "        if not word[1] in [\"Josa\",\"Eomi\",\"Punctuation\"]:\n",
    "            r.append(word[0])\n",
    "     #형태소 사이에 공백 \" \"  을 넣습니다. 그리고 양쪽 공백을 지웁니다.\n",
    "    rl = (\" \".join(r)).strip()\n",
    "    result.append(rl)\n",
    "    #print(rl)\n",
    "\n",
    " #형태소들을 별도의 파일로 저장 합니다.\n",
    "with open(\"NaverMovie.nlp\",'w', encoding='utf-8') as fp:\n",
    "    fp.write(\"\\n\".join(result))\n",
    "\n",
    " #Word2Vec 모델 만들기\n",
    "wData = word2vec.LineSentence(\"NaverMovie.nlp\")\n",
    "wModel =word2vec.Word2Vec(wData, size=200, window=10, hs=1, min_count=2, sg=1)\n",
    "wModel.save(\"NaverMovie.model\")\n",
    "print(\"Word2Vec Modeling finished\")"
   ]
  },
  {
   "cell_type": "code",
   "execution_count": 2,
   "metadata": {},
   "outputs": [
    {
     "name": "stdout",
     "output_type": "stream",
     "text": [
      "[('엽서', 0.9777320623397827), ('고양이', 0.9527563452720642), ('위', 0.9487001895904541), ('2021년', 0.9482980966567993), ('민화', 0.9460278153419495), ('멸종', 0.9437723159790039), ('탁상', 0.9397597312927246), ('작다', 0.9379341006278992), ('노트', 0.935634434223175), ('아트', 0.9346280097961426)]\n"
     ]
    }
   ],
   "source": [
    "from gensim.models import word2vec\n",
    "\n",
    "model = word2vec.Word2Vec.load(\"NaverMovie.model\")\n",
    "\n",
    "print(model.wv.most_similar(positive=[\"동물\"]))\n"
   ]
  },
  {
   "cell_type": "code",
   "execution_count": 3,
   "metadata": {},
   "outputs": [
    {
     "name": "stdout",
     "output_type": "stream",
     "text": [
      "[('달력', 0.9691413640975952), ('2021', 0.964665412902832), ('2021년', 0.9393203258514404), ('다이어리', 0.9218459129333496), ('포스터', 0.9100912809371948), ('브릭', 0.9067280888557434), ('패', 0.9047900438308716), ('동물', 0.8989003300666809), ('엽서', 0.8912308216094971), ('영화', 0.8865423798561096)]\n"
     ]
    }
   ],
   "source": [
    "from gensim.models import word2vec\n",
    "\n",
    "model = word2vec.Word2Vec.load(\"NaverMovie.model\")\n",
    "\n",
    "print(model.wv.most_similar(positive=[\"캘린더\"]))"
   ]
  },
  {
   "cell_type": "code",
   "execution_count": 4,
   "metadata": {},
   "outputs": [
    {
     "name": "stdout",
     "output_type": "stream",
     "text": [
      "[('붓기', 0.9332582950592041), ('케어', 0.9238545894622803), ('베개', 0.9162450432777405), ('젤', 0.9109829068183899), ('간편하다', 0.9037194848060608), ('베타', 0.9021663665771484), ('에스테', 0.9018296599388123), ('Your', 0.9006842374801636), ('10억', 0.8959469795227051), ('신소재', 0.895455002784729)]\n"
     ]
    }
   ],
   "source": [
    "from gensim.models import word2vec\n",
    "\n",
    "model = word2vec.Word2Vec.load(\"NaverMovie.model\")\n",
    "\n",
    "print(model.wv.most_similar(positive=[\"다리\"]))"
   ]
  },
  {
   "cell_type": "code",
   "execution_count": 5,
   "metadata": {},
   "outputs": [
    {
     "name": "stdout",
     "output_type": "stream",
     "text": [
      "[('머리', 0.9680489301681519), ('트렌디', 0.9600392580032349), ('퍼즐', 0.9584861397743225), ('스탠드', 0.9571374654769897), ('내다', 0.9551497101783752), ('모드', 0.9540020227432251), ('오래', 0.9533494114875793), ('스피커', 0.9531272649765015), ('개성', 0.9531230330467224), ('야옹', 0.9529200792312622)]\n"
     ]
    }
   ],
   "source": [
    "#?\n",
    "from gensim.models import word2vec\n",
    "\n",
    "model = word2vec.Word2Vec.load(\"NaverMovie.model\")\n",
    "\n",
    "print(model.wv.most_similar(positive=[\"카드\"]))"
   ]
  },
  {
   "cell_type": "code",
   "execution_count": 6,
   "metadata": {},
   "outputs": [
    {
     "name": "stdout",
     "output_type": "stream",
     "text": [
      "[('버블', 0.9827242493629456), ('에스프레소', 0.9808669090270996), ('재난', 0.980334997177124), ('좀', 0.9789177179336548), ('기획', 0.9774912595748901), ('to', 0.9774653911590576), ('냄새', 0.9772458076477051), ('닭갈비', 0.9769278764724731), ('영', 0.9768944382667542), ('민트', 0.9765355587005615)]\n"
     ]
    }
   ],
   "source": [
    "#?\n",
    "from gensim.models import word2vec\n",
    "\n",
    "model = word2vec.Word2Vec.load(\"NaverMovie.model\")\n",
    "\n",
    "print(model.wv.most_similar(positive=[\"보드게임\"]))"
   ]
  },
  {
   "cell_type": "code",
   "execution_count": 7,
   "metadata": {},
   "outputs": [
    {
     "name": "stdout",
     "output_type": "stream",
     "text": [
      "[('5', 0.9195521473884583), ('세련되다', 0.9109522104263306), ('7', 0.9074511528015137), ('가구', 0.9072156548500061), ('채널', 0.8996908068656921), ('평점', 0.899388313293457), ('7일', 0.897574245929718), ('등', 0.8938107490539551), ('4', 0.892765998840332), ('in', 0.8895032405853271)]\n"
     ]
    }
   ],
   "source": [
    "#?\n",
    "from gensim.models import word2vec\n",
    "\n",
    "model = word2vec.Word2Vec.load(\"NaverMovie.model\")\n",
    "\n",
    "print(model.wv.most_similar(positive=[\"차\"]))"
   ]
  },
  {
   "cell_type": "code",
   "execution_count": 8,
   "metadata": {},
   "outputs": [
    {
     "name": "stdout",
     "output_type": "stream",
     "text": [
      "[('세대', 0.9914913177490234), ('포스트', 0.9909449815750122), ('강력하다', 0.9899046421051025), ('투유', 0.9894282817840576), ('와플', 0.9892444610595703), ('블루투스', 0.9889989495277405), ('다짐', 0.9889507293701172), ('인정', 0.9889066219329834), ('넘다', 0.9885770082473755), ('구애', 0.9885441660881042)]\n"
     ]
    }
   ],
   "source": [
    "#?\n",
    "from gensim.models import word2vec\n",
    "\n",
    "model = word2vec.Word2Vec.load(\"NaverMovie.model\")\n",
    "\n",
    "print(model.wv.most_similar(positive=[\"스킨\"]))"
   ]
  },
  {
   "cell_type": "code",
   "execution_count": 9,
   "metadata": {},
   "outputs": [
    {
     "name": "stdout",
     "output_type": "stream",
     "text": [
      "[('배경', 0.9795933365821838), ('왕궁', 0.9764593839645386), ('주거', 0.9752888679504395), ('절벽', 0.9711394309997559), ('해안', 0.9678922891616821), ('스케치업', 0.9676570892333984), ('주택가', 0.9671343564987183), ('거리', 0.9654476642608643), ('판타지', 0.9640913009643555), ('마을', 0.9636815190315247)]\n"
     ]
    }
   ],
   "source": [
    "#best\n",
    "from gensim.models import word2vec\n",
    "\n",
    "model = word2vec.Word2Vec.load(\"NaverMovie.model\")\n",
    "\n",
    "print(model.wv.most_similar(positive=[\"웹툰\"]))"
   ]
  },
  {
   "cell_type": "code",
   "execution_count": 10,
   "metadata": {},
   "outputs": [
    {
     "name": "stdout",
     "output_type": "stream",
     "text": [
      "[('샴페인', 0.9746817946434021), ('각인', 0.9744620323181152), ('반지', 0.9733662009239197), ('다이아', 0.9637887477874756), ('석', 0.9604008197784424), ('유기', 0.9589880704879761), ('속눈썹', 0.957072913646698), ('전하', 0.9564464092254639), ('골드', 0.9561299085617065), ('또', 0.9560197591781616)]\n"
     ]
    }
   ],
   "source": [
    "#best\n",
    "from gensim.models import word2vec\n",
    "\n",
    "model = word2vec.Word2Vec.load(\"NaverMovie.model\")\n",
    "\n",
    "print(model.wv.most_similar(positive=[\"목걸이\"]))"
   ]
  },
  {
   "cell_type": "code",
   "execution_count": 11,
   "metadata": {},
   "outputs": [
    {
     "name": "stdout",
     "output_type": "stream",
     "text": [
      "[('전공자', 0.9865039587020874), ('숙성', 0.9816001653671265), ('백호', 0.9797145128250122), ('슬립', 0.979477047920227), ('섀도우', 0.9788413047790527), ('이브', 0.9771142601966858), ('미미', 0.9768054485321045), ('뇌', 0.9767137169837952), ('미래', 0.976581335067749), ('예방', 0.9764794111251831)]\n"
     ]
    }
   ],
   "source": [
    "#?\n",
    "from gensim.models import word2vec\n",
    "\n",
    "model = word2vec.Word2Vec.load(\"NaverMovie.model\")\n",
    "\n",
    "print(model.wv.most_similar(positive=[\"스테이크\"]))"
   ]
  },
  {
   "cell_type": "code",
   "execution_count": 12,
   "metadata": {},
   "outputs": [
    {
     "name": "stdout",
     "output_type": "stream",
     "text": [
      "[('펀딩', 0.9336897134780884), ('평점', 0.917301595211029), ('5.0', 0.9101898670196533), ('4.9', 0.8963688611984253), ('점', 0.8931357264518738), ('RGB', 0.8890654444694519), ('베개', 0.8889853954315186), ('PURI', 0.8887649774551392), ('4.8', 0.8877068758010864), ('글로벌', 0.8834440112113953)]\n"
     ]
    }
   ],
   "source": [
    "from gensim.models import word2vec\n",
    "\n",
    "model = word2vec.Word2Vec.load(\"NaverMovie.model\")\n",
    "\n",
    "print(model.wv.most_similar(positive=[\"앵콜\"]))"
   ]
  },
  {
   "cell_type": "code",
   "execution_count": 13,
   "metadata": {},
   "outputs": [
    {
     "name": "stdout",
     "output_type": "stream",
     "text": [
      "[('캐리어', 0.9661124348640442), ('지폐', 0.9633713364601135), ('팔찌', 0.9614472389221191), ('텀블러', 0.9596829414367676), ('많이', 0.9561836123466492), ('토트', 0.9560496807098389), ('핸드폰', 0.9548400640487671), ('열다', 0.9527026414871216), ('가볍다', 0.9522631764411926), ('천', 0.9522470831871033)]\n"
     ]
    }
   ],
   "source": [
    "from gensim.models import word2vec\n",
    "\n",
    "model = word2vec.Word2Vec.load(\"NaverMovie.model\")\n",
    "\n",
    "print(model.wv.most_similar(positive=[\"지갑\"]))"
   ]
  },
  {
   "cell_type": "code",
   "execution_count": 14,
   "metadata": {},
   "outputs": [
    {
     "name": "stdout",
     "output_type": "stream",
     "text": [
      "[('새롭다', 0.9818136692047119), ('엑셀', 0.9807314872741699), ('손가락', 0.9782650470733643), ('4만원', 0.9774735569953918), ('현상', 0.975734293460846), ('더욱', 0.9755527973175049), ('커버', 0.9752054214477539), ('장난감', 0.9750100374221802), ('거치', 0.9749309420585632), ('맡기다', 0.9741700291633606)]\n"
     ]
    }
   ],
   "source": [
    "from gensim.models import word2vec\n",
    "\n",
    "model = word2vec.Word2Vec.load(\"NaverMovie.model\")\n",
    "\n",
    "print(model.wv.most_similar(positive=[\"구두\"]))"
   ]
  },
  {
   "cell_type": "code",
   "execution_count": 6,
   "metadata": {},
   "outputs": [
    {
     "name": "stdout",
     "output_type": "stream",
     "text": [
      "[('샤워', 0.9886407852172852), ('매', 0.9863273501396179), ('보풀', 0.9858410358428955), ('밀랍', 0.9842370748519897), ('보고서', 0.9841901063919067), ('쌓이다', 0.984111487865448), ('셜록', 0.9838463664054871), ('쯤', 0.9836406111717224), ('심폐소생술', 0.9830198884010315), ('마르지', 0.9828792810440063)]\n"
     ]
    }
   ],
   "source": [
    "from gensim.models import word2vec\n",
    "model = word2vec.Word2Vec.load(\"NaverMovie.model\")\n",
    "\n",
    "print(model.wv.most_similar(positive=[\"면도기\"]))"
   ]
  },
  {
   "cell_type": "code",
   "execution_count": 15,
   "metadata": {},
   "outputs": [
    {
     "name": "stdout",
     "output_type": "stream",
     "text": [
      "[('시르다', 0.9873522520065308), ('확인', 0.9873213171958923), ('레이어', 0.9870790243148804), ('터널', 0.9860937595367432), ('키홀', 0.9860565662384033), ('작고', 0.9858914613723755), ('역사', 0.9848096966743469), ('겸비', 0.9847707748413086), ('막다', 0.9847097396850586), ('개성', 0.9846654534339905)]\n"
     ]
    }
   ],
   "source": [
    "from gensim.models import word2vec\n",
    "model = word2vec.Word2Vec.load(\"NaverMovie.model\")\n",
    "\n",
    "print(model.wv.most_similar(positive=[\"스피커\"]))"
   ]
  },
  {
   "cell_type": "code",
   "execution_count": 16,
   "metadata": {},
   "outputs": [
    {
     "name": "stdout",
     "output_type": "stream",
     "text": [
      "[('사회', 0.989750325679779), ('We', 0.9888851642608643), ('아로마', 0.9883154630661011), ('오리진', 0.9882933497428894), ('인장', 0.9878426194190979), ('린지', 0.9873239994049072), ('1시간', 0.9870889186859131), ('UNDERPANTS', 0.9865810871124268), ('으로', 0.9856730103492737), ('허다', 0.9854980707168579)]\n"
     ]
    }
   ],
   "source": [
    "from gensim.models import word2vec\n",
    "model = word2vec.Word2Vec.load(\"NaverMovie.model\")\n",
    "\n",
    "print(model.wv.most_similar(positive=[\"공기청정기\"]))"
   ]
  },
  {
   "cell_type": "code",
   "execution_count": 17,
   "metadata": {},
   "outputs": [
    {
     "name": "stdout",
     "output_type": "stream",
     "text": [
      "[('보풀', 0.9911864995956421), ('장난감', 0.9885984063148499), ('코듀', 0.987816572189331), ('미용', 0.9876772165298462), ('전동', 0.9863377213478088), ('컴팩트', 0.9861720204353333), ('터', 0.9859519004821777), ('스노우', 0.9857876300811768), ('맡기다', 0.9855983853340149), ('달빛천사', 0.9854640960693359)]\n"
     ]
    }
   ],
   "source": [
    "from gensim.models import word2vec\n",
    "model = word2vec.Word2Vec.load(\"NaverMovie.model\")\n",
    "\n",
    "print(model.wv.most_similar(positive=[\"면도기\"]))"
   ]
  },
  {
   "cell_type": "code",
   "execution_count": 136,
   "metadata": {},
   "outputs": [
    {
     "name": "stdout",
     "output_type": "stream",
     "text": [
      "[('1.5억', 0.9877529144287109), ('골프', 0.9874023199081421), ('카라멜', 0.9873781204223633), ('겸비', 0.9860813617706299), ('확인', 0.9858189821243286), ('쏘다', 0.9848499298095703), ('잠자리', 0.9845619797706604), ('코듀', 0.9845024347305298), ('채', 0.9844012260437012), ('초점', 0.9840810298919678)]\n"
     ]
    }
   ],
   "source": [
    "from gensim.models import word2vec\n",
    "\n",
    "model = word2vec.Word2Vec.load(\"NaverMovie.model\")\n",
    "\n",
    "print(model.wv.most_similar(positive=[\"스피커\"]))"
   ]
  },
  {
   "cell_type": "code",
   "execution_count": 137,
   "metadata": {},
   "outputs": [
    {
     "name": "stdout",
     "output_type": "stream",
     "text": [
      "[('전설', 0.9918209314346313), ('사기', 0.9906795024871826), ('1시간', 0.9886390566825867), ('금지', 0.9872726202011108), ('We', 0.9866782426834106), ('으로', 0.9865179061889648), ('방식', 0.9853752851486206), ('복간', 0.9851435422897339), ('생리', 0.9843692779541016), ('엔', 0.984140157699585)]\n"
     ]
    }
   ],
   "source": [
    "from gensim.models import word2vec\n",
    "\n",
    "model = word2vec.Word2Vec.load(\"NaverMovie.model\")\n",
    "\n",
    "print(model.wv.most_similar(positive=[\"공기청정기\"]))"
   ]
  },
  {
   "cell_type": "code",
   "execution_count": 138,
   "metadata": {},
   "outputs": [
    {
     "name": "stdout",
     "output_type": "stream",
     "text": [
      "[('평온하다', 0.9591979384422302), ('풍경', 0.9557477235794067), ('공감', 0.955264687538147), ('유니버스', 0.9544776678085327), ('레이', 0.9539436101913452), ('여기', 0.9526118040084839), ('심야', 0.9519081115722656), ('탄생석', 0.9516822695732117), ('영감', 0.9501450061798096), ('민화', 0.9492945671081543)]\n"
     ]
    }
   ],
   "source": [
    "from gensim.models import word2vec\n",
    "\n",
    "model = word2vec.Word2Vec.load(\"NaverMovie.model\")\n",
    "\n",
    "print(model.wv.most_similar(positive=[\"사진\"]))"
   ]
  },
  {
   "cell_type": "code",
   "execution_count": 31,
   "metadata": {},
   "outputs": [
    {
     "name": "stdout",
     "output_type": "stream",
     "text": [
      "Word2Vec Modeling finished\n"
     ]
    }
   ],
   "source": [
    "import csv\n",
    "from konlpy.tag import Okt\n",
    "from gensim.models import word2vec\n",
    "\n",
    "\n",
    " #Word2Vec 모델 만들기\n",
    "wData = word2vec.LineSentence(\"soynlp_okt_crawl_title.txt\")\n",
    "wModel =word2vec.Word2Vec(wData, size=400, window=10, hs=1, min_count=2, sg=1)\n",
    "wModel.save(\"NaverMovie2.model\")\n",
    "print(\"Word2Vec Modeling finished\")"
   ]
  },
  {
   "cell_type": "code",
   "execution_count": 56,
   "metadata": {},
   "outputs": [
    {
     "name": "stdout",
     "output_type": "stream",
     "text": [
      "[('이야기', 0.9798824787139893), ('장식', 0.9798821210861206), ('동양', 0.9774547219276428), ('문학', 0.9771488308906555), ('치즈', 0.976874053478241), ('고전', 0.9762767553329468), ('일러스트', 0.9739202260971069), ('브러쉬', 0.9736687541007996), ('엑스트라', 0.9728811979293823), ('드라마', 0.9717464447021484)]\n"
     ]
    }
   ],
   "source": [
    "from gensim.models import word2vec\n",
    "\n",
    "model = word2vec.Word2Vec.load(\"NaverMovie2.model\")\n",
    "\n",
    "print(model.wv.most_similar(positive=[\"동물\"]))"
   ]
  },
  {
   "cell_type": "code",
   "execution_count": 57,
   "metadata": {},
   "outputs": [
    {
     "name": "stdout",
     "output_type": "stream",
     "text": [
      "[('포스터', 0.935797929763794), ('꿈', 0.9247362613677979), ('달력', 0.9156240820884705), ('브릭', 0.9125529527664185), ('노트', 0.9121367931365967), ('머그컵', 0.9071763753890991), ('전하', 0.9016269445419312), ('모든', 0.9015565514564514), ('냥', 0.9012230634689331), ('불안', 0.9011859893798828)]\n"
     ]
    }
   ],
   "source": [
    "from gensim.models import word2vec\n",
    "\n",
    "model = word2vec.Word2Vec.load(\"NaverMovie2.model\")\n",
    "\n",
    "print(model.wv.most_similar(positive=[\"캘린더\"]))"
   ]
  },
  {
   "cell_type": "code",
   "execution_count": 58,
   "metadata": {},
   "outputs": [
    {
     "name": "stdout",
     "output_type": "stream",
     "text": [
      "[('베개', 0.9265135526657104), ('케어', 0.9094574451446533), ('식초', 0.9072700142860413), ('뽕', 0.8959298729896545), ('차', 0.8950951099395752), ('성분', 0.8939915895462036), ('발사믹', 0.8906447887420654), ('치아', 0.8814340829849243), ('수면', 0.8809115290641785), ('신소재', 0.8804193735122681)]\n"
     ]
    }
   ],
   "source": [
    "from gensim.models import word2vec\n",
    "\n",
    "model = word2vec.Word2Vec.load(\"NaverMovie2.model\")\n",
    "\n",
    "print(model.wv.most_similar(positive=[\"다리\"]))"
   ]
  },
  {
   "cell_type": "code",
   "execution_count": 35,
   "metadata": {},
   "outputs": [
    {
     "name": "stdout",
     "output_type": "stream",
     "text": [
      "[('팔찌', 0.9658795595169067), ('아크릴', 0.9623740315437317), ('각인', 0.9600387215614319), ('큐브', 0.9587191343307495), ('이니셜', 0.957909107208252), ('지폐', 0.9574699401855469), ('창의력', 0.9551738500595093), ('이유', 0.9548163414001465), ('영국', 0.9544669985771179), ('정통', 0.954380989074707)]\n"
     ]
    }
   ],
   "source": [
    "from gensim.models import word2vec\n",
    "\n",
    "model = word2vec.Word2Vec.load(\"NaverMovie2.model\")\n",
    "\n",
    "print(model.wv.most_similar(positive=[\"카드\"]))"
   ]
  },
  {
   "cell_type": "code",
   "execution_count": 64,
   "metadata": {},
   "outputs": [
    {
     "name": "stdout",
     "output_type": "stream",
     "text": [
      "[('공작', 0.974432647228241), ('설화', 0.9729629158973694), ('청년', 0.9693962335586548), ('직관', 0.9688495397567749), ('왕국', 0.9678786993026733), ('성우', 0.9675763845443726), ('디컬', 0.96745365858078), ('철', 0.9671536087989807), ('작가', 0.9669165015220642), ('윌벤져스', 0.9664329290390015)]\n"
     ]
    }
   ],
   "source": [
    "from gensim.models import word2vec\n",
    "\n",
    "model = word2vec.Word2Vec.load(\"NaverMovie2.model\")\n",
    "\n",
    "print(model.wv.most_similar(positive=[\"보드게임\"]))"
   ]
  },
  {
   "cell_type": "code",
   "execution_count": 66,
   "metadata": {},
   "outputs": [
    {
     "name": "stdout",
     "output_type": "stream",
     "text": [
      "[('치아', 0.9753094911575317), ('워터', 0.9664450883865356), ('아이스크림', 0.965895414352417), ('미백', 0.9650923013687134), ('발사믹', 0.9640326499938965), ('원료', 0.9634952545166016), ('점', 0.9634584784507751), ('유산균', 0.9633843302726746), ('사과', 0.9625067114830017), ('마지막', 0.9618799686431885)]\n"
     ]
    }
   ],
   "source": [
    "from gensim.models import word2vec\n",
    "\n",
    "model = word2vec.Word2Vec.load(\"NaverMovie2.model\")\n",
    "\n",
    "print(model.wv.most_similar(positive=[\"차\"]))"
   ]
  },
  {
   "cell_type": "code",
   "execution_count": 68,
   "metadata": {},
   "outputs": [
    {
     "name": "stdout",
     "output_type": "stream",
     "text": [
      "[('리뉴얼', 0.9956964254379272), ('퓨어', 0.9950891137123108), ('양념', 0.994904637336731), ('동전', 0.9946494102478027), ('다트', 0.9945715665817261), ('둘', 0.9938434362411499), ('순면', 0.9936639070510864), ('함유', 0.9931520223617554), ('화이트', 0.9927400946617126), ('스펙', 0.9925929307937622)]\n"
     ]
    }
   ],
   "source": [
    "#?\n",
    "from gensim.models import word2vec\n",
    "\n",
    "model = word2vec.Word2Vec.load(\"NaverMovie2.model\")\n",
    "\n",
    "print(model.wv.most_similar(positive=[\"스킨\"]))"
   ]
  },
  {
   "cell_type": "code",
   "execution_count": 69,
   "metadata": {},
   "outputs": [
    {
     "name": "stdout",
     "output_type": "stream",
     "text": [
      "[('배경', 0.9774770140647888), ('스케치업', 0.971875786781311), ('동화', 0.9583247900009155), ('패키지', 0.9551095366477966), ('판타지', 0.9538479447364807), ('폐', 0.953539252281189), ('무협', 0.9516950845718384), ('저택', 0.9513272047042847), ('로맨스', 0.9500495195388794), ('실', 0.9459799528121948)]\n"
     ]
    }
   ],
   "source": [
    "#?\n",
    "from gensim.models import word2vec\n",
    "\n",
    "model = word2vec.Word2Vec.load(\"NaverMovie2.model\")\n",
    "\n",
    "print(model.wv.most_similar(positive=[\"웹툰\"]))"
   ]
  },
  {
   "cell_type": "code",
   "execution_count": 70,
   "metadata": {},
   "outputs": [
    {
     "name": "stdout",
     "output_type": "stream",
     "text": [
      "[('반지', 0.974158763885498), ('캐럿', 0.9548115730285645), ('골드', 0.9478375911712646), ('이드', 0.9367321729660034), ('주얼리', 0.9354918599128723), ('다이아', 0.9295905828475952), ('각인', 0.9286165237426758), ('아크릴', 0.9253902435302734), ('로망', 0.9220235347747803), ('다이아몬드', 0.9199260473251343)]\n"
     ]
    }
   ],
   "source": [
    "#best\n",
    "from gensim.models import word2vec\n",
    "\n",
    "model = word2vec.Word2Vec.load(\"NaverMovie2.model\")\n",
    "\n",
    "print(model.wv.most_similar(positive=[\"목걸이\"]))"
   ]
  },
  {
   "cell_type": "code",
   "execution_count": 104,
   "metadata": {},
   "outputs": [
    {
     "name": "stdout",
     "output_type": "stream",
     "text": [
      "[('새해', 0.9814929366111755), ('텍사스', 0.9807873964309692), ('스모크', 0.9788605570793152), ('솔솔', 0.9767490029335022), ('탄산', 0.9761145114898682), ('명란', 0.9757968783378601), ('열', 0.9753038287162781), ('세균', 0.975023627281189), ('레드', 0.9734788537025452), ('검증', 0.9734487533569336)]\n"
     ]
    }
   ],
   "source": [
    "from gensim.models import word2vec\n",
    "\n",
    "model = word2vec.Word2Vec.load(\"NaverMovie2.model\")\n",
    "\n",
    "print(model.wv.most_similar(positive=[\"스테이크\"]))"
   ]
  },
  {
   "cell_type": "code",
   "execution_count": 74,
   "metadata": {},
   "outputs": [
    {
     "name": "stdout",
     "output_type": "stream",
     "text": [
      "[('스포츠', 0.9732723236083984), ('평점', 0.9704439043998718), ('충전', 0.9678885340690613), ('아이스크림', 0.9653258919715881), ('후기', 0.9641748666763306), ('자켓', 0.9639236330986023), ('끝판', 0.9631915092468262), ('모공', 0.9625609517097473), ('바디', 0.962480902671814), ('점', 0.9615272283554077)]\n"
     ]
    }
   ],
   "source": [
    "from gensim.models import word2vec\n",
    "\n",
    "model = word2vec.Word2Vec.load(\"NaverMovie2.model\")\n",
    "\n",
    "print(model.wv.most_similar(positive=[\"앵콜\"]))"
   ]
  },
  {
   "cell_type": "code",
   "execution_count": 75,
   "metadata": {},
   "outputs": [
    {
     "name": "stdout",
     "output_type": "stream",
     "text": [
      "[('팔찌', 0.9658795595169067), ('아크릴', 0.9623740315437317), ('각인', 0.9600387215614319), ('큐브', 0.9587191343307495), ('이니셜', 0.957909107208252), ('지폐', 0.9574699401855469), ('창의력', 0.9551738500595093), ('이유', 0.9548163414001465), ('영국', 0.9544669985771179), ('정통', 0.954380989074707)]\n"
     ]
    }
   ],
   "source": [
    "from gensim.models import word2vec\n",
    "\n",
    "model = word2vec.Word2Vec.load(\"NaverMovie2.model\")\n",
    "\n",
    "print(model.wv.most_similar(positive=[\"지갑\"]))"
   ]
  },
  {
   "cell_type": "code",
   "execution_count": 76,
   "metadata": {},
   "outputs": [
    {
     "name": "stdout",
     "output_type": "stream",
     "text": [
      "[('폴리', 0.9869732856750488), ('토너', 0.9848260283470154), ('멍', 0.9847425818443298), ('바이오', 0.9835320711135864), ('시트', 0.9832357168197632), ('미백', 0.9828126430511475), ('홈파티', 0.9825425148010254), ('샐러드', 0.9824180006980896), ('웜', 0.9819107055664062), ('역대', 0.9813941717147827)]\n"
     ]
    }
   ],
   "source": [
    "from gensim.models import word2vec\n",
    "\n",
    "model = word2vec.Word2Vec.load(\"NaverMovie2.model\")\n",
    "\n",
    "print(model.wv.most_similar(positive=[\"구두\"]))"
   ]
  },
  {
   "cell_type": "code",
   "execution_count": 90,
   "metadata": {},
   "outputs": [
    {
     "name": "stdout",
     "output_type": "stream",
     "text": [
      "[('기술', 0.9945003390312195), ('택트', 0.9941253066062927), ('메모리', 0.9938042163848877), ('레이저', 0.9937734603881836), ('확인', 0.9930630922317505), ('왕실', 0.9928607940673828), ('신슐레이트', 0.9927899837493896), ('혼', 0.9921224117279053), ('나인', 0.9919474124908447), ('스크래쳐', 0.9918581247329712)]\n"
     ]
    }
   ],
   "source": [
    "from gensim.models import word2vec\n",
    "\n",
    "model = word2vec.Word2Vec.load(\"NaverMovie2.model\")\n",
    "\n",
    "print(model.wv.most_similar(positive=[\"면도기\"]))"
   ]
  },
  {
   "cell_type": "code",
   "execution_count": 91,
   "metadata": {},
   "outputs": [
    {
     "name": "stdout",
     "output_type": "stream",
     "text": [
      "[('화이트', 0.9867806434631348), ('순면', 0.9857451915740967), ('직접', 0.9856224060058594), ('쫀쫀', 0.9850621819496155), ('인치', 0.9842087030410767), ('받침', 0.9841642379760742), ('분리', 0.9839925169944763), ('부위', 0.9839777946472168), ('전기', 0.9838583469390869), ('퍼펙트', 0.983847975730896)]\n"
     ]
    }
   ],
   "source": [
    "from gensim.models import word2vec\n",
    "\n",
    "model = word2vec.Word2Vec.load(\"NaverMovie2.model\")\n",
    "\n",
    "print(model.wv.most_similar(positive=[\"스피커\"]))"
   ]
  },
  {
   "cell_type": "code",
   "execution_count": 93,
   "metadata": {},
   "outputs": [
    {
     "name": "stdout",
     "output_type": "stream",
     "text": [
      "[('파괴', 0.9973046779632568), ('발가락', 0.9970141649246216), ('브러시', 0.9962581396102905), ('충만', 0.995802104473114), ('복백', 0.9954865574836731), ('껌', 0.994796872138977), ('엘리', 0.9947282075881958), ('유저', 0.9946266412734985), ('실현', 0.9944477081298828), ('고슴도치', 0.9944458603858948)]\n"
     ]
    }
   ],
   "source": [
    "from gensim.models import word2vec\n",
    "\n",
    "model = word2vec.Word2Vec.load(\"NaverMovie2.model\")\n",
    "\n",
    "print(model.wv.most_similar(positive=[\"공기청정기\"]))"
   ]
  },
  {
   "cell_type": "code",
   "execution_count": 135,
   "metadata": {},
   "outputs": [
    {
     "name": "stdout",
     "output_type": "stream",
     "text": [
      "[('전쟁', 0.9760129451751709), ('사극', 0.9752115607261658), ('고전', 0.9722700715065002), ('드라마', 0.9714434742927551), ('소설', 0.9711940288543701), ('이름', 0.9696714878082275), ('장식', 0.9694129228591919), ('양식', 0.9688984155654907), ('성폭력', 0.9685046672821045), ('두번째', 0.9679802656173706)]\n"
     ]
    }
   ],
   "source": [
    "from gensim.models import word2vec\n",
    "\n",
    "model = word2vec.Word2Vec.load(\"NaverMovie2.model\")\n",
    "\n",
    "print(model.wv.most_similar(positive=[\"사진\"]))"
   ]
  },
  {
   "cell_type": "code",
   "execution_count": 105,
   "metadata": {},
   "outputs": [
    {
     "name": "stdout",
     "output_type": "stream",
     "text": [
      "Word2Vec Modeling finished\n"
     ]
    }
   ],
   "source": [
    "import csv\n",
    "from konlpy.tag import Okt\n",
    "from gensim.models import word2vec\n",
    "\n",
    "\n",
    " #Word2Vec 모델 만들기\n",
    "wData = word2vec.LineSentence(\"soynlp_hannanum_crawl_title.txt\")\n",
    "wModel =word2vec.Word2Vec(wData, size=400, window=10, hs=1, min_count=2, sg=1)\n",
    "wModel.save(\"NaverMovie3.model\")\n",
    "print(\"Word2Vec Modeling finished\")"
   ]
  },
  {
   "cell_type": "code",
   "execution_count": 106,
   "metadata": {},
   "outputs": [
    {
     "name": "stdout",
     "output_type": "stream",
     "text": [
      "[('온라인', 0.9927974939346313), ('할머니', 0.9927808046340942), ('에세이', 0.9897398948669434), ('냥', 0.9897226095199585), ('위로', 0.9889324903488159), ('추억', 0.9883855581283569), ('음악', 0.9883488416671753), ('이름', 0.9880167245864868), ('레이스', 0.9878851175308228), ('나', 0.9878685474395752)]\n"
     ]
    }
   ],
   "source": [
    "from gensim.models import word2vec\n",
    "\n",
    "model = word2vec.Word2Vec.load(\"NaverMovie3.model\")\n",
    "\n",
    "print(model.wv.most_similar(positive=[\"동물\"]))"
   ]
  },
  {
   "cell_type": "code",
   "execution_count": 107,
   "metadata": {},
   "outputs": [
    {
     "name": "stdout",
     "output_type": "stream",
     "text": [
      "[('2021', 0.9915294647216797), ('달력', 0.9904287457466125), ('패브릭', 0.9624019861221313), ('2021년', 0.9573040008544922), ('기억', 0.9547015428543091), ('포스터', 0.9538782835006714), ('마음', 0.9506533145904541), ('고양이', 0.9496418833732605), ('여행', 0.9434137344360352), ('꽃', 0.9411628842353821)]\n"
     ]
    }
   ],
   "source": [
    "from gensim.models import word2vec\n",
    "\n",
    "model = word2vec.Word2Vec.load(\"NaverMovie3.model\")\n",
    "\n",
    "print(model.wv.most_similar(positive=[\"캘린더\"]))"
   ]
  },
  {
   "cell_type": "code",
   "execution_count": 128,
   "metadata": {},
   "outputs": [
    {
     "name": "stdout",
     "output_type": "stream",
     "text": [
      "[('하루종일', 0.9954145550727844), ('연말', 0.9857091903686523), ('메모지', 0.9853217601776123), ('편안', 0.9842476844787598), ('골드', 0.9842246174812317), ('천연성분', 0.9840787649154663), ('4.9', 0.9836317896842957), ('10억', 0.9832241535186768), ('기능', 0.9828545451164246), ('붓기다리', 0.98273766040802)]\n"
     ]
    }
   ],
   "source": [
    "from gensim.models import word2vec\n",
    "\n",
    "model = word2vec.Word2Vec.load(\"NaverMovie3.model\")\n",
    "\n",
    "print(model.wv.most_similar(positive=[\"다리\"]))"
   ]
  },
  {
   "cell_type": "code",
   "execution_count": 129,
   "metadata": {},
   "outputs": [
    {
     "name": "stdout",
     "output_type": "stream",
     "text": [
      "[('매듭', 0.9941047430038452), ('유령', 0.9929255247116089), ('혼', 0.992904782295227), ('장신구', 0.9926144480705261), ('홀더', 0.9925821423530579), ('무늬', 0.9925462007522583), ('자수', 0.9925265312194824), ('묘약', 0.9921700954437256), ('명작', 0.9921677708625793), ('프릴', 0.9920510053634644)]\n"
     ]
    }
   ],
   "source": [
    "from gensim.models import word2vec\n",
    "\n",
    "model = word2vec.Word2Vec.load(\"NaverMovie3.model\")\n",
    "\n",
    "print(model.wv.most_similar(positive=[\"카드\"]))"
   ]
  },
  {
   "cell_type": "code",
   "execution_count": 130,
   "metadata": {},
   "outputs": [
    {
     "name": "stdout",
     "output_type": "stream",
     "text": [
      "[('소매치기', 0.9985967874526978), ('클렌저', 0.997909665107727), ('신기루', 0.9977296590805054), ('방검가방', 0.9975252151489258), ('투자', 0.9975249767303467), ('레테', 0.9973204731941223), ('오베론', 0.9972831010818481), ('보관', 0.9972759485244751), ('레드', 0.9972251057624817), ('경첩', 0.9971784353256226)]\n"
     ]
    }
   ],
   "source": [
    "from gensim.models import word2vec\n",
    "\n",
    "model = word2vec.Word2Vec.load(\"NaverMovie3.model\")\n",
    "\n",
    "print(model.wv.most_similar(positive=[\"보드게임\"]))"
   ]
  },
  {
   "cell_type": "code",
   "execution_count": 96,
   "metadata": {},
   "outputs": [
    {
     "name": "stdout",
     "output_type": "stream",
     "text": [
      "[('전쟁', 0.9760129451751709), ('사극', 0.9752115607261658), ('고전', 0.9722700715065002), ('드라마', 0.9714434742927551), ('소설', 0.9711940288543701), ('이름', 0.9696714878082275), ('장식', 0.9694129228591919), ('양식', 0.9688984155654907), ('성폭력', 0.9685046672821045), ('두번째', 0.9679802656173706)]\n"
     ]
    }
   ],
   "source": [
    "from gensim.models import word2vec\n",
    "#okt=movie2\n",
    "model = word2vec.Word2Vec.load(\"NaverMovie2.model\")\n",
    "\n",
    "print(model.wv.most_similar(positive=[\"사진\"]))"
   ]
  },
  {
   "cell_type": "code",
   "execution_count": 108,
   "metadata": {},
   "outputs": [
    {
     "name": "stdout",
     "output_type": "stream",
     "text": [
      "[('하루종일', 0.9954145550727844), ('연말', 0.9857091903686523), ('메모지', 0.9853217601776123), ('편안', 0.9842476844787598), ('골드', 0.9842246174812317), ('천연성분', 0.9840787649154663), ('4.9', 0.9836317896842957), ('10억', 0.9832241535186768), ('기능', 0.9828545451164246), ('붓기다리', 0.98273766040802)]\n"
     ]
    }
   ],
   "source": [
    "from gensim.models import word2vec\n",
    "\n",
    "model = word2vec.Word2Vec.load(\"NaverMovie3.model\")\n",
    "\n",
    "print(model.wv.most_similar(positive=[\"다리\"]))"
   ]
  },
  {
   "cell_type": "code",
   "execution_count": 109,
   "metadata": {},
   "outputs": [
    {
     "name": "stdout",
     "output_type": "stream",
     "text": [
      "[('매듭', 0.9941047430038452), ('유령', 0.9929255247116089), ('혼', 0.992904782295227), ('장신구', 0.9926144480705261), ('홀더', 0.9925821423530579), ('무늬', 0.9925462007522583), ('자수', 0.9925265312194824), ('묘약', 0.9921700954437256), ('명작', 0.9921677708625793), ('프릴', 0.9920510053634644)]\n"
     ]
    }
   ],
   "source": [
    "from gensim.models import word2vec\n",
    "\n",
    "model = word2vec.Word2Vec.load(\"NaverMovie3.model\")\n",
    "\n",
    "print(model.wv.most_similar(positive=[\"카드\"]))"
   ]
  },
  {
   "cell_type": "code",
   "execution_count": 110,
   "metadata": {},
   "outputs": [
    {
     "name": "stdout",
     "output_type": "stream",
     "text": [
      "[('소매치기', 0.9985967874526978), ('클렌저', 0.997909665107727), ('신기루', 0.9977296590805054), ('방검가방', 0.9975252151489258), ('투자', 0.9975249767303467), ('레테', 0.9973204731941223), ('오베론', 0.9972831010818481), ('보관', 0.9972759485244751), ('레드', 0.9972251057624817), ('경첩', 0.9971784353256226)]\n"
     ]
    }
   ],
   "source": [
    "from gensim.models import word2vec\n",
    "\n",
    "model = word2vec.Word2Vec.load(\"NaverMovie3.model\")\n",
    "\n",
    "print(model.wv.most_similar(positive=[\"보드게임\"]))"
   ]
  },
  {
   "cell_type": "code",
   "execution_count": 111,
   "metadata": {},
   "outputs": [
    {
     "name": "stdout",
     "output_type": "stream",
     "text": [
      "[('감동', 0.9885018467903137), ('지갑', 0.9880224466323853), ('남자', 0.9860910773277283), ('옷장', 0.9826133251190186), ('비누', 0.9820258617401123), ('전골', 0.9819931983947754), ('선물하세요', 0.981917142868042), ('샴푸', 0.9815331101417542), ('기념일', 0.9813921451568604), ('심플한', 0.9812116622924805)]\n"
     ]
    }
   ],
   "source": [
    "from gensim.models import word2vec\n",
    "\n",
    "model = word2vec.Word2Vec.load(\"NaverMovie3.model\")\n",
    "\n",
    "print(model.wv.most_similar(positive=[\"차\"]))"
   ]
  },
  {
   "cell_type": "code",
   "execution_count": 131,
   "metadata": {},
   "outputs": [
    {
     "ename": "KeyError",
     "evalue": "\"word '스킨' not in vocabulary\"",
     "output_type": "error",
     "traceback": [
      "\u001b[1;31m---------------------------------------------------------------------------\u001b[0m",
      "\u001b[1;31mKeyError\u001b[0m                                  Traceback (most recent call last)",
      "\u001b[1;32m<ipython-input-131-4b0c10c36b15>\u001b[0m in \u001b[0;36m<module>\u001b[1;34m\u001b[0m\n\u001b[0;32m      3\u001b[0m \u001b[0mmodel\u001b[0m \u001b[1;33m=\u001b[0m \u001b[0mword2vec\u001b[0m\u001b[1;33m.\u001b[0m\u001b[0mWord2Vec\u001b[0m\u001b[1;33m.\u001b[0m\u001b[0mload\u001b[0m\u001b[1;33m(\u001b[0m\u001b[1;34m\"NaverMovie3.model\"\u001b[0m\u001b[1;33m)\u001b[0m\u001b[1;33m\u001b[0m\u001b[1;33m\u001b[0m\u001b[0m\n\u001b[0;32m      4\u001b[0m \u001b[1;33m\u001b[0m\u001b[0m\n\u001b[1;32m----> 5\u001b[1;33m \u001b[0mprint\u001b[0m\u001b[1;33m(\u001b[0m\u001b[0mmodel\u001b[0m\u001b[1;33m.\u001b[0m\u001b[0mwv\u001b[0m\u001b[1;33m.\u001b[0m\u001b[0mmost_similar\u001b[0m\u001b[1;33m(\u001b[0m\u001b[0mpositive\u001b[0m\u001b[1;33m=\u001b[0m\u001b[1;33m[\u001b[0m\u001b[1;34m\"스킨\"\u001b[0m\u001b[1;33m]\u001b[0m\u001b[1;33m)\u001b[0m\u001b[1;33m)\u001b[0m\u001b[1;33m\u001b[0m\u001b[1;33m\u001b[0m\u001b[0m\n\u001b[0m",
      "\u001b[1;32m~\\anaconda3\\lib\\site-packages\\gensim\\models\\keyedvectors.py\u001b[0m in \u001b[0;36mmost_similar\u001b[1;34m(self, positive, negative, topn, restrict_vocab, indexer)\u001b[0m\n\u001b[0;32m    551\u001b[0m                 \u001b[0mmean\u001b[0m\u001b[1;33m.\u001b[0m\u001b[0mappend\u001b[0m\u001b[1;33m(\u001b[0m\u001b[0mweight\u001b[0m \u001b[1;33m*\u001b[0m \u001b[0mword\u001b[0m\u001b[1;33m)\u001b[0m\u001b[1;33m\u001b[0m\u001b[1;33m\u001b[0m\u001b[0m\n\u001b[0;32m    552\u001b[0m             \u001b[1;32melse\u001b[0m\u001b[1;33m:\u001b[0m\u001b[1;33m\u001b[0m\u001b[1;33m\u001b[0m\u001b[0m\n\u001b[1;32m--> 553\u001b[1;33m                 \u001b[0mmean\u001b[0m\u001b[1;33m.\u001b[0m\u001b[0mappend\u001b[0m\u001b[1;33m(\u001b[0m\u001b[0mweight\u001b[0m \u001b[1;33m*\u001b[0m \u001b[0mself\u001b[0m\u001b[1;33m.\u001b[0m\u001b[0mword_vec\u001b[0m\u001b[1;33m(\u001b[0m\u001b[0mword\u001b[0m\u001b[1;33m,\u001b[0m \u001b[0muse_norm\u001b[0m\u001b[1;33m=\u001b[0m\u001b[1;32mTrue\u001b[0m\u001b[1;33m)\u001b[0m\u001b[1;33m)\u001b[0m\u001b[1;33m\u001b[0m\u001b[1;33m\u001b[0m\u001b[0m\n\u001b[0m\u001b[0;32m    554\u001b[0m                 \u001b[1;32mif\u001b[0m \u001b[0mword\u001b[0m \u001b[1;32min\u001b[0m \u001b[0mself\u001b[0m\u001b[1;33m.\u001b[0m\u001b[0mvocab\u001b[0m\u001b[1;33m:\u001b[0m\u001b[1;33m\u001b[0m\u001b[1;33m\u001b[0m\u001b[0m\n\u001b[0;32m    555\u001b[0m                     \u001b[0mall_words\u001b[0m\u001b[1;33m.\u001b[0m\u001b[0madd\u001b[0m\u001b[1;33m(\u001b[0m\u001b[0mself\u001b[0m\u001b[1;33m.\u001b[0m\u001b[0mvocab\u001b[0m\u001b[1;33m[\u001b[0m\u001b[0mword\u001b[0m\u001b[1;33m]\u001b[0m\u001b[1;33m.\u001b[0m\u001b[0mindex\u001b[0m\u001b[1;33m)\u001b[0m\u001b[1;33m\u001b[0m\u001b[1;33m\u001b[0m\u001b[0m\n",
      "\u001b[1;32m~\\anaconda3\\lib\\site-packages\\gensim\\models\\keyedvectors.py\u001b[0m in \u001b[0;36mword_vec\u001b[1;34m(self, word, use_norm)\u001b[0m\n\u001b[0;32m    466\u001b[0m             \u001b[1;32mreturn\u001b[0m \u001b[0mresult\u001b[0m\u001b[1;33m\u001b[0m\u001b[1;33m\u001b[0m\u001b[0m\n\u001b[0;32m    467\u001b[0m         \u001b[1;32melse\u001b[0m\u001b[1;33m:\u001b[0m\u001b[1;33m\u001b[0m\u001b[1;33m\u001b[0m\u001b[0m\n\u001b[1;32m--> 468\u001b[1;33m             \u001b[1;32mraise\u001b[0m \u001b[0mKeyError\u001b[0m\u001b[1;33m(\u001b[0m\u001b[1;34m\"word '%s' not in vocabulary\"\u001b[0m \u001b[1;33m%\u001b[0m \u001b[0mword\u001b[0m\u001b[1;33m)\u001b[0m\u001b[1;33m\u001b[0m\u001b[1;33m\u001b[0m\u001b[0m\n\u001b[0m\u001b[0;32m    469\u001b[0m \u001b[1;33m\u001b[0m\u001b[0m\n\u001b[0;32m    470\u001b[0m     \u001b[1;32mdef\u001b[0m \u001b[0mget_vector\u001b[0m\u001b[1;33m(\u001b[0m\u001b[0mself\u001b[0m\u001b[1;33m,\u001b[0m \u001b[0mword\u001b[0m\u001b[1;33m)\u001b[0m\u001b[1;33m:\u001b[0m\u001b[1;33m\u001b[0m\u001b[1;33m\u001b[0m\u001b[0m\n",
      "\u001b[1;31mKeyError\u001b[0m: \"word '스킨' not in vocabulary\""
     ]
    }
   ],
   "source": [
    "from gensim.models import word2vec\n",
    "\n",
    "model = word2vec.Word2Vec.load(\"NaverMovie3.model\")\n",
    "\n",
    "print(model.wv.most_similar(positive=[\"스킨\"]))"
   ]
  },
  {
   "cell_type": "code",
   "execution_count": 114,
   "metadata": {},
   "outputs": [
    {
     "name": "stdout",
     "output_type": "stream",
     "text": [
      "[('스케치업', 0.9919152855873108), ('판타지', 0.9895310401916504), ('웹툰배경', 0.9795714616775513), ('배경', 0.978835940361023), ('단행본', 0.9687304496765137), ('제작', 0.9579231142997742), ('로판', 0.9558636546134949), ('굿즈', 0.9513667821884155), ('앨범', 0.939386248588562), ('이야기', 0.9356604218482971)]\n"
     ]
    }
   ],
   "source": [
    "from gensim.models import word2vec\n",
    "\n",
    "model = word2vec.Word2Vec.load(\"NaverMovie3.model\")\n",
    "\n",
    "print(model.wv.most_similar(positive=[\"웹툰\"]))"
   ]
  },
  {
   "cell_type": "code",
   "execution_count": 117,
   "metadata": {},
   "outputs": [
    {
     "name": "stdout",
     "output_type": "stream",
     "text": [
      "[('사용', 0.9937797784805298), ('럭셔리', 0.9937384724617004), ('20만원', 0.9936689734458923), ('휴대용', 0.9935336112976074), ('감성캠핑', 0.9930199384689331), ('쫀득', 0.9929869174957275), ('걸요', 0.9929665327072144), ('전세계', 0.9928362369537354), ('퀄리티', 0.9927682876586914), ('의자', 0.9924100637435913)]\n"
     ]
    }
   ],
   "source": [
    "from gensim.models import word2vec\n",
    "\n",
    "model = word2vec.Word2Vec.load(\"NaverMovie3.model\")\n",
    "\n",
    "print(model.wv.most_similar(positive=[\"목걸이\"]))"
   ]
  },
  {
   "cell_type": "code",
   "execution_count": 118,
   "metadata": {},
   "outputs": [
    {
     "name": "stdout",
     "output_type": "stream",
     "text": [
      "[('머플러', 0.9959467053413391), ('멀티', 0.9945460557937622), ('감성캠핑', 0.9939972758293152), ('가루', 0.9922521710395813), ('맛', 0.9914279580116272), ('앵콜펀딩', 0.9912671446800232), ('리버시블', 0.9908338785171509), ('키보드', 0.990816593170166), ('7일', 0.9907593727111816), ('리뷰', 0.9905645847320557)]\n"
     ]
    }
   ],
   "source": [
    "from gensim.models import word2vec\n",
    "\n",
    "model = word2vec.Word2Vec.load(\"NaverMovie3.model\")\n",
    "\n",
    "print(model.wv.most_similar(positive=[\"스테이크\"]))"
   ]
  },
  {
   "cell_type": "code",
   "execution_count": 119,
   "metadata": {},
   "outputs": [
    {
     "name": "stdout",
     "output_type": "stream",
     "text": [
      "[('가격', 0.9843675494194031), ('펀딩', 0.9776334166526794), ('프리미엄', 0.9734193086624146), ('끝판왕', 0.9724804162979126), ('마지막', 0.9703893065452576), ('따뜻', 0.9641331434249878), ('평점', 0.9609198570251465), ('개념', 0.9595326781272888), ('2만원', 0.959490954875946), ('캐시미', 0.959046483039856)]\n"
     ]
    }
   ],
   "source": [
    "from gensim.models import word2vec\n",
    "\n",
    "model = word2vec.Word2Vec.load(\"NaverMovie3.model\")\n",
    "\n",
    "print(model.wv.most_similar(positive=[\"앵콜\"]))"
   ]
  },
  {
   "cell_type": "code",
   "execution_count": 120,
   "metadata": {},
   "outputs": [
    {
     "name": "stdout",
     "output_type": "stream",
     "text": [
      "[('전골', 0.9970898628234863), ('감동', 0.9953440427780151), ('쫀득', 0.9952867031097412), ('둘', 0.994669497013092), ('도톰', 0.9942479133605957), ('아웃도어', 0.9938908815383911), ('레트', 0.9938004016876221), ('스틱', 0.9935140013694763), ('컬렉션', 0.9934957027435303), ('남자', 0.9934782385826111)]\n"
     ]
    }
   ],
   "source": [
    "from gensim.models import word2vec\n",
    "\n",
    "model = word2vec.Word2Vec.load(\"NaverMovie3.model\")\n",
    "\n",
    "print(model.wv.most_similar(positive=[\"지갑\"]))"
   ]
  },
  {
   "cell_type": "code",
   "execution_count": 121,
   "metadata": {},
   "outputs": [
    {
     "name": "stdout",
     "output_type": "stream",
     "text": [
      "[('0', 0.9974633455276489), ('백팩', 0.9968569278717041), ('각인', 0.9965327978134155), ('4차', 0.9964848160743713), ('노브', 0.9964700937271118), ('천연소가죽', 0.9963605999946594), ('무릎', 0.9961494207382202), ('발끝', 0.9960503578186035), ('역대급', 0.9959428310394287), ('원료', 0.9957966804504395)]\n"
     ]
    }
   ],
   "source": [
    "from gensim.models import word2vec\n",
    "\n",
    "model = word2vec.Word2Vec.load(\"NaverMovie3.model\")\n",
    "\n",
    "print(model.wv.most_similar(positive=[\"구두\"]))"
   ]
  },
  {
   "cell_type": "code",
   "execution_count": 122,
   "metadata": {},
   "outputs": [
    {
     "name": "stdout",
     "output_type": "stream",
     "text": [
      "[('강화', 0.9986293315887451), ('깔창', 0.9982345104217529), ('실천', 0.9982311725616455), ('끝판', 0.9982094168663025), ('활자가족', 0.9980943202972412), ('서체', 0.9980074167251587), ('디자인문구', 0.9979859590530396), ('올라운드', 0.9979655742645264), ('거짓말', 0.9979233741760254), ('땅', 0.9978933334350586)]\n"
     ]
    }
   ],
   "source": [
    "from gensim.models import word2vec\n",
    "\n",
    "model = word2vec.Word2Vec.load(\"NaverMovie3.model\")\n",
    "\n",
    "print(model.wv.most_similar(positive=[\"면도기\"]))"
   ]
  },
  {
   "cell_type": "code",
   "execution_count": 124,
   "metadata": {},
   "outputs": [
    {
     "name": "stdout",
     "output_type": "stream",
     "text": [
      "[('카메라', 0.9988641142845154), ('기술력', 0.9987654685974121), ('코리아', 0.9984203577041626), ('강력한', 0.9983752369880676), ('피', 0.9982978105545044), ('바지락', 0.9982618689537048), ('충분', 0.9982113242149353), ('매운맛', 0.9982035160064697), ('퀄팩', 0.998127818107605), ('랩', 0.9980406761169434)]\n"
     ]
    }
   ],
   "source": [
    "from gensim.models import word2vec\n",
    "\n",
    "model = word2vec.Word2Vec.load(\"NaverMovie3.model\")\n",
    "\n",
    "print(model.wv.most_similar(positive=[\"스피커\"]))"
   ]
  },
  {
   "cell_type": "code",
   "execution_count": 125,
   "metadata": {},
   "outputs": [
    {
     "name": "stdout",
     "output_type": "stream",
     "text": [
      "[('청소년', 0.9989813566207886), ('파도', 0.9989157915115356), ('일당백', 0.9982424974441528), ('국가보안법', 0.9982422590255737), ('말랑폭신', 0.9981991052627563), ('파스텔', 0.9981569647789001), ('10대', 0.9980999231338501), ('액션', 0.998090386390686), ('미지', 0.9980607032775879), ('럭키백lucky', 0.9980348348617554)]\n"
     ]
    }
   ],
   "source": [
    "from gensim.models import word2vec\n",
    "\n",
    "model = word2vec.Word2Vec.load(\"NaverMovie3.model\")\n",
    "\n",
    "print(model.wv.most_similar(positive=[\"공기청정기\"]))"
   ]
  },
  {
   "cell_type": "code",
   "execution_count": 126,
   "metadata": {},
   "outputs": [
    {
     "name": "stdout",
     "output_type": "stream",
     "text": [
      "[('2021탁상달력', 0.9981240034103394), ('포토', 0.9979996085166931), ('책상', 0.9978208541870117), ('청춘', 0.9977640509605408), ('보통', 0.9977558851242065), ('블루', 0.9977022409439087), ('벚꽃', 0.9976544976234436), ('북극곰', 0.9975378513336182), ('세밀화', 0.9974631071090698), ('속셈', 0.997458815574646)]\n"
     ]
    }
   ],
   "source": [
    "from gensim.models import word2vec\n",
    "\n",
    "model = word2vec.Word2Vec.load(\"NaverMovie3.model\")\n",
    "\n",
    "print(model.wv.most_similar(positive=[\"사진\"]))"
   ]
  },
  {
   "cell_type": "code",
   "execution_count": 97,
   "metadata": {},
   "outputs": [
    {
     "name": "stdout",
     "output_type": "stream",
     "text": [
      "[('평온하다', 0.9591979384422302), ('풍경', 0.9557477235794067), ('공감', 0.955264687538147), ('유니버스', 0.9544776678085327), ('레이', 0.9539436101913452), ('여기', 0.9526118040084839), ('심야', 0.9519081115722656), ('탄생석', 0.9516822695732117), ('영감', 0.9501450061798096), ('민화', 0.9492945671081543)]\n"
     ]
    }
   ],
   "source": [
    "from gensim.models import word2vec\n",
    "#자체-번호x\n",
    "model = word2vec.Word2Vec.load(\"NaverMovie.model\")\n",
    "\n",
    "print(model.wv.most_similar(positive=[\"사진\"]))"
   ]
  },
  {
   "cell_type": "code",
   "execution_count": 103,
   "metadata": {},
   "outputs": [
    {
     "name": "stdout",
     "output_type": "stream",
     "text": [
      "[('새해', 0.9814929366111755), ('텍사스', 0.9807873964309692), ('스모크', 0.9788605570793152), ('솔솔', 0.9767490029335022), ('탄산', 0.9761145114898682), ('명란', 0.9757968783378601), ('열', 0.9753038287162781), ('세균', 0.975023627281189), ('레드', 0.9734788537025452), ('검증', 0.9734487533569336)]\n"
     ]
    }
   ],
   "source": [
    "from gensim.models import word2vec\n",
    "\n",
    "model = word2vec.Word2Vec.load(\"NaverMovie2.model\")\n",
    "\n",
    "print(model.wv.most_similar(positive=[\"스테이크\"]))"
   ]
  },
  {
   "cell_type": "code",
   "execution_count": 141,
   "metadata": {},
   "outputs": [
    {
     "name": "stdout",
     "output_type": "stream",
     "text": [
      "[('힙합', 0.9954400658607483), ('부탁', 0.9953830242156982), ('가까이', 0.9950336813926697), ('내일', 0.9949554204940796), ('다음', 0.9947872161865234), ('국악', 0.9944834113121033), ('야행', 0.9940875172615051), ('장편', 0.9938714504241943), ('사이클링', 0.993766188621521), ('음원', 0.993611752986908)]\n"
     ]
    }
   ],
   "source": [
    "from gensim.models import word2vec\n",
    "\n",
    "model = word2vec.Word2Vec.load(\"NaverMovie2.model\")\n",
    "\n",
    "print(model.wv.most_similar(positive=[\"콩\"]))"
   ]
  },
  {
   "cell_type": "code",
   "execution_count": 143,
   "metadata": {},
   "outputs": [
    {
     "name": "stdout",
     "output_type": "stream",
     "text": [
      "Word2Vec Modeling finished\n"
     ]
    }
   ],
   "source": [
    "import csv\n",
    "from konlpy.tag import Okt\n",
    "from gensim.models import word2vec\n",
    "\n",
    "\n",
    " #Word2Vec 모델 만들기\n",
    "wData = word2vec.LineSentence(\"mix_oktorigin_0.txt\")\n",
    "wModel =word2vec.Word2Vec(wData, size=400, window=10, hs=1, min_count=2, sg=1)\n",
    "wModel.save(\"NaverMovie4.model\")\n",
    "print(\"Word2Vec Modeling finished\")"
   ]
  },
  {
   "cell_type": "code",
   "execution_count": 144,
   "metadata": {},
   "outputs": [
    {
     "name": "stdout",
     "output_type": "stream",
     "text": [
      "[('대화', 0.870612621307373), ('지갑', 0.8550063371658325), ('케이스', 0.8480962514877319), ('의미', 0.8250378966331482), ('지폐', 0.8243378400802612), ('행운', 0.8221383094787598), ('폰', 0.8146461844444275), ('에어팟', 0.8137587308883667), ('소중하다', 0.8112524747848511), ('동전', 0.8090661764144897)]\n"
     ]
    }
   ],
   "source": [
    "from gensim.models import word2vec\n",
    "\n",
    "model = word2vec.Word2Vec.load(\"NaverMovie4.model\")\n",
    "\n",
    "print(model.wv.most_similar(positive=[\"카드\"]))"
   ]
  },
  {
   "cell_type": "code",
   "execution_count": 145,
   "metadata": {},
   "outputs": [
    {
     "name": "stdout",
     "output_type": "stream",
     "text": [
      "[('쿤', 0.9155774116516113), ('평등', 0.9131397008895874), ('릴레이', 0.9091314077377319), ('종류', 0.9067310690879822), ('차려', 0.8974425196647644), ('Vo', 0.8924081921577454), ('개벽', 0.892357587814331), ('광장', 0.8912979960441589), ('사장', 0.8899569511413574), ('박창수', 0.8888334035873413)]\n"
     ]
    }
   ],
   "source": [
    "from gensim.models import word2vec\n",
    "\n",
    "model = word2vec.Word2Vec.load(\"NaverMovie4.model\")\n",
    "\n",
    "print(model.wv.most_similar(positive=[\"보드게임\"]))"
   ]
  },
  {
   "cell_type": "code",
   "execution_count": 146,
   "metadata": {},
   "outputs": [
    {
     "name": "stdout",
     "output_type": "stream",
     "text": [
      "[('지폐', 0.9190073013305664), ('동전', 0.8935567140579224), ('업그레이드', 0.8754324913024902), ('핸드폰', 0.8746213316917419), ('폰', 0.8684797883033752), ('베지터블', 0.8678779602050781), ('연', 0.8668179512023926), ('각인', 0.8667933344841003), ('악세사리', 0.8656425476074219), ('월렛', 0.8650721311569214)]\n"
     ]
    }
   ],
   "source": [
    "from gensim.models import word2vec\n",
    "\n",
    "model = word2vec.Word2Vec.load(\"NaverMovie4.model\")\n",
    "\n",
    "print(model.wv.most_similar(positive=[\"지갑\"]))"
   ]
  },
  {
   "cell_type": "code",
   "execution_count": 147,
   "metadata": {},
   "outputs": [
    {
     "name": "stdout",
     "output_type": "stream",
     "text": [
      "[('복부', 0.9298990964889526), ('갈비', 0.9272085428237915), ('뱃살', 0.9239559769630432), ('간편하다', 0.9235696792602539), ('연어', 0.919765830039978), ('사료', 0.9166240692138672), ('토너', 0.9150946736335754), ('틱', 0.9150317907333374), ('귀환', 0.9145739674568176), ('안대', 0.9136953353881836)]\n"
     ]
    }
   ],
   "source": [
    "from gensim.models import word2vec\n",
    "\n",
    "model = word2vec.Word2Vec.load(\"NaverMovie4.model\")\n",
    "\n",
    "print(model.wv.most_similar(positive=[\"차\"]))"
   ]
  },
  {
   "cell_type": "code",
   "execution_count": 148,
   "metadata": {},
   "outputs": [
    {
     "name": "stdout",
     "output_type": "stream",
     "text": [
      "[('코듀', 0.9511767029762268), ('포기', 0.9325845241546631), ('로이', 0.9323054552078247), ('연어', 0.9312658309936523), ('너무', 0.9272733330726624), ('매틱', 0.9255058765411377), ('만족도', 0.9219578504562378), ('대체', 0.9210823774337769), ('품질', 0.9191309213638306), ('시계', 0.9188182353973389)]\n"
     ]
    }
   ],
   "source": [
    "from gensim.models import word2vec\n",
    "\n",
    "model = word2vec.Word2Vec.load(\"NaverMovie4.model\")\n",
    "\n",
    "print(model.wv.most_similar(positive=[\"구두\"]))"
   ]
  },
  {
   "cell_type": "code",
   "execution_count": 149,
   "metadata": {},
   "outputs": [
    {
     "name": "stdout",
     "output_type": "stream",
     "text": [
      "[('니트', 0.9569174647331238), ('코트', 0.95208740234375), ('울', 0.9506993293762207), ('캐시미어', 0.950330376625061), ('야크', 0.9342236518859863), ('드롭', 0.9161982536315918), ('절대', 0.9150609374046326), ('메이드', 0.9135926365852356), ('핸드', 0.9120945930480957), ('격식', 0.9102814197540283)]\n"
     ]
    }
   ],
   "source": [
    "from gensim.models import word2vec\n",
    "\n",
    "model = word2vec.Word2Vec.load(\"NaverMovie4.model\")\n",
    "\n",
    "print(model.wv.most_similar(positive=[\"머플러\"]))"
   ]
  },
  {
   "cell_type": "code",
   "execution_count": 150,
   "metadata": {},
   "outputs": [
    {
     "name": "stdout",
     "output_type": "stream",
     "text": [
      "[('보풀', 0.9803584814071655), ('심폐소생술', 0.9714287519454956), ('완벽하다', 0.9620944261550903), ('get', 0.9551172852516174), ('쉘', 0.9526534080505371), ('욕심', 0.9468397498130798), ('죽다', 0.9466171264648438), ('울프', 0.9451792240142822), ('익스트림', 0.9451371431350708), ('도톰하다', 0.9441102743148804)]\n"
     ]
    }
   ],
   "source": [
    "from gensim.models import word2vec\n",
    "\n",
    "model = word2vec.Word2Vec.load(\"NaverMovie4.model\")\n",
    "\n",
    "print(model.wv.most_similar(positive=[\"면도기\"]))"
   ]
  },
  {
   "cell_type": "code",
   "execution_count": 151,
   "metadata": {},
   "outputs": [
    {
     "name": "stdout",
     "output_type": "stream",
     "text": [
      "[('맥', 0.9343489408493042), ('UVC', 0.9334359169006348), ('택트', 0.9323329925537109), ('전기', 0.9259287118911743), ('샴보', 0.9234696626663208), ('캣타워', 0.9203018546104431), ('자외선', 0.9200155138969421), ('레브', 0.9168829917907715), ('냉장', 0.9084722995758057), ('함유량', 0.9073809385299683)]\n"
     ]
    }
   ],
   "source": [
    "from gensim.models import word2vec\n",
    "\n",
    "model = word2vec.Word2Vec.load(\"NaverMovie4.model\")\n",
    "\n",
    "print(model.wv.most_similar(positive=[\"스피커\"]))"
   ]
  },
  {
   "cell_type": "code",
   "execution_count": 152,
   "metadata": {},
   "outputs": [
    {
     "name": "stdout",
     "output_type": "stream",
     "text": [
      "[('코스터', 0.9647140502929688), ('박사', 0.9600584506988525), ('고르붕', 0.955500602722168), ('사생활', 0.9546986818313599), ('감귤', 0.9528287649154663), ('탑뷰', 0.9504011869430542), ('웨스턴', 0.9500386714935303), ('후회', 0.9490787386894226), ('점정', 0.9487543106079102), ('헤드', 0.9481343626976013)]\n"
     ]
    }
   ],
   "source": [
    "from gensim.models import word2vec\n",
    "\n",
    "model = word2vec.Word2Vec.load(\"NaverMovie4.model\")\n",
    "\n",
    "print(model.wv.most_similar(positive=[\"공기청정기\"]))"
   ]
  },
  {
   "cell_type": "code",
   "execution_count": 153,
   "metadata": {},
   "outputs": [
    {
     "name": "stdout",
     "output_type": "stream",
     "text": [
      "[('심야', 0.946060061454773), ('여행지', 0.932402491569519), ('엽서', 0.9295432567596436), ('부산', 0.9257195591926575), ('수채화', 0.9206373691558838), ('제주도', 0.9202917814254761), ('팝업', 0.9186893105506897), ('마그넷', 0.9179069995880127), ('색연필', 0.9135435819625854), ('일러스트', 0.9102323055267334)]\n"
     ]
    }
   ],
   "source": [
    "from gensim.models import word2vec\n",
    "\n",
    "model = word2vec.Word2Vec.load(\"NaverMovie4.model\")\n",
    "\n",
    "print(model.wv.most_similar(positive=[\"사진\"]))"
   ]
  },
  {
   "cell_type": "code",
   "execution_count": 154,
   "metadata": {},
   "outputs": [
    {
     "name": "stdout",
     "output_type": "stream",
     "text": [
      "[('롤링', 0.9761865735054016), ('구도', 0.9745378494262695), ('변하다', 0.9717564582824707), ('벤투스', 0.9696805477142334), ('하이파이', 0.969581663608551), ('떼', 0.968008279800415), ('대용', 0.9678598642349243), ('탈무드', 0.9670409560203552), ('맞이', 0.9668118953704834), ('근육', 0.9666340351104736)]\n"
     ]
    }
   ],
   "source": [
    "from gensim.models import word2vec\n",
    "\n",
    "model = word2vec.Word2Vec.load(\"NaverMovie4.model\")\n",
    "\n",
    "print(model.wv.most_similar(positive=[\"음료\"]))"
   ]
  },
  {
   "cell_type": "code",
   "execution_count": 155,
   "metadata": {},
   "outputs": [
    {
     "name": "stdout",
     "output_type": "stream",
     "text": [
      "[('브루', 0.8827012181282043), ('콜드', 0.8491432666778564), ('원두', 0.8469995260238647), ('드립', 0.8431694507598877), ('디카', 0.8364473581314087), ('초코', 0.8315176963806152), ('우유', 0.8314095735549927), ('페인', 0.8286274671554565), ('같다', 0.8280612230300903), ('지방', 0.8185268640518188)]\n"
     ]
    }
   ],
   "source": [
    "from gensim.models import word2vec\n",
    "\n",
    "model = word2vec.Word2Vec.load(\"NaverMovie4.model\")\n",
    "\n",
    "print(model.wv.most_similar(positive=[\"커피\"]))"
   ]
  },
  {
   "cell_type": "code",
   "execution_count": 156,
   "metadata": {},
   "outputs": [
    {
     "name": "stdout",
     "output_type": "stream",
     "text": [
      "[('배경', 0.9502184987068176), ('세렌', 0.946009635925293), ('실', 0.9433565139770508), ('무협', 0.9431880712509155), ('성안', 0.9426881670951843), ('주택가', 0.9418654441833496), ('성곽', 0.9381887912750244), ('스케치업', 0.9378014802932739), ('사극', 0.9361944794654846), ('펜트하우스', 0.9324336647987366)]\n"
     ]
    }
   ],
   "source": [
    "from gensim.models import word2vec\n",
    "\n",
    "model = word2vec.Word2Vec.load(\"NaverMovie4.model\")\n",
    "\n",
    "print(model.wv.most_similar(positive=[\"웹툰\"]))"
   ]
  },
  {
   "cell_type": "code",
   "execution_count": 157,
   "metadata": {},
   "outputs": [
    {
     "name": "stdout",
     "output_type": "stream",
     "text": [
      "[('페스티벌', 0.8684197068214417), ('풍선', 0.8632676601409912), ('전설', 0.8609234094619751), ('추리', 0.8563442230224609), ('심리', 0.8559427261352539), ('모험', 0.8555711507797241), ('썸머', 0.8520839214324951), ('한국어', 0.8516203165054321), ('메이킹', 0.8503586053848267), ('던전', 0.84942626953125)]\n"
     ]
    }
   ],
   "source": [
    "from gensim.models import word2vec\n",
    "\n",
    "model = word2vec.Word2Vec.load(\"NaverMovie4.model\")\n",
    "\n",
    "print(model.wv.most_similar(positive=[\"게임\"]))"
   ]
  },
  {
   "cell_type": "code",
   "execution_count": 158,
   "metadata": {},
   "outputs": [
    {
     "name": "stdout",
     "output_type": "stream",
     "text": [
      "[('텍사스', 0.9444595575332642), ('음식물', 0.933327317237854), ('틱', 0.9302046298980713), ('아노락', 0.9283370971679688), ('캐링', 0.9281646013259888), ('스모크', 0.9249101877212524), ('국물', 0.924127459526062), ('합리', 0.923468828201294), ('줌', 0.9229691028594971), ('중화', 0.9220004081726074)]\n"
     ]
    }
   ],
   "source": [
    "from gensim.models import word2vec\n",
    "\n",
    "model = word2vec.Word2Vec.load(\"NaverMovie4.model\")\n",
    "\n",
    "print(model.wv.most_similar(positive=[\"스테이크\"]))"
   ]
  },
  {
   "cell_type": "code",
   "execution_count": 159,
   "metadata": {},
   "outputs": [
    {
     "name": "stdout",
     "output_type": "stream",
     "text": [
      "[('반지', 0.9415271282196045), ('다이아몬드', 0.9378553628921509), ('다이아', 0.9376397728919983), ('골드', 0.9225844144821167), ('랩그', 0.9046779274940491), ('천연', 0.8832237720489502), ('루비', 0.8769859075546265), ('각인', 0.8719960451126099), ('석', 0.867428719997406), ('마음', 0.8625048995018005)]\n"
     ]
    }
   ],
   "source": [
    "from gensim.models import word2vec\n",
    "\n",
    "model = word2vec.Word2Vec.load(\"NaverMovie4.model\")\n",
    "\n",
    "print(model.wv.most_similar(positive=[\"목걸이\"]))"
   ]
  },
  {
   "cell_type": "code",
   "execution_count": 160,
   "metadata": {},
   "outputs": [
    {
     "name": "stdout",
     "output_type": "stream",
     "text": [
      "[('서양', 0.9274840354919434), ('아트', 0.9245182275772095), ('하늘', 0.9157406091690063), ('남매', 0.9151711463928223), ('오브', 0.9122834801673889), ('픽코', 0.9112812876701355), ('여성향', 0.9105198383331299), ('독립', 0.9103862643241882), ('심야', 0.9074661731719971), ('고전', 0.9053037166595459)]\n"
     ]
    }
   ],
   "source": [
    "from gensim.models import word2vec\n",
    "\n",
    "model = word2vec.Word2Vec.load(\"NaverMovie4.model\")\n",
    "\n",
    "print(model.wv.most_similar(positive=[\"동물\"]))"
   ]
  },
  {
   "cell_type": "code",
   "execution_count": 161,
   "metadata": {},
   "outputs": [
    {
     "name": "stdout",
     "output_type": "stream",
     "text": [
      "[('크랜베리', 0.9701461791992188), ('마치', 0.9696463346481323), ('베프', 0.965020477771759), ('항생제', 0.9645757675170898), ('생유', 0.9597947597503662), ('신제품', 0.9573895335197449), ('베리', 0.9519919753074646), ('무', 0.9395207166671753), ('신기록', 0.9078478813171387), ('퓨어', 0.9026212096214294)]\n"
     ]
    }
   ],
   "source": [
    "from gensim.models import word2vec\n",
    "\n",
    "model = word2vec.Word2Vec.load(\"NaverMovie4.model\")\n",
    "\n",
    "print(model.wv.most_similar(positive=[\"펫\"]))"
   ]
  },
  {
   "cell_type": "code",
   "execution_count": 162,
   "metadata": {},
   "outputs": [
    {
     "name": "stdout",
     "output_type": "stream",
     "text": [
      "[('달력', 0.9551064968109131), ('포스터', 0.9309190511703491), ('그림', 0.9106302261352539), ('패브릭', 0.9027402400970459), ('엽서', 0.9014755487442017), ('탁상', 0.8961819410324097), ('위로', 0.8946951627731323), ('다이어리', 0.889045238494873), ('스티커', 0.8865679502487183), ('민화', 0.8851520419120789)]\n"
     ]
    }
   ],
   "source": [
    "from gensim.models import word2vec\n",
    "\n",
    "model = word2vec.Word2Vec.load(\"NaverMovie4.model\")\n",
    "\n",
    "print(model.wv.most_similar(positive=[\"캘린더\"]))"
   ]
  },
  {
   "cell_type": "code",
   "execution_count": 163,
   "metadata": {},
   "outputs": [
    {
     "name": "stdout",
     "output_type": "stream",
     "text": [
      "[('이동', 0.9239652156829834), ('조각보', 0.8925089836120605), ('방검', 0.8884976506233215), ('소매치기', 0.8870208263397217), ('달리기', 0.8840299248695374), ('가든', 0.883407473564148), ('금손', 0.8807787895202637), ('세번', 0.8787211179733276), ('매번', 0.8763986229896545), ('큰일', 0.8755388259887695)]\n"
     ]
    }
   ],
   "source": [
    "from gensim.models import word2vec\n",
    "\n",
    "model = word2vec.Word2Vec.load(\"NaverMovie4.model\")\n",
    "\n",
    "print(model.wv.most_similar(positive=[\"반려동물\"]))"
   ]
  },
  {
   "cell_type": "code",
   "execution_count": 165,
   "metadata": {},
   "outputs": [
    {
     "name": "stdout",
     "output_type": "stream",
     "text": [
      "[('기록', 0.9501786231994629), ('청춘', 0.9349954128265381), ('에세이', 0.9336292147636414), ('기억', 0.9289453029632568), ('일기', 0.9246752262115479), ('이름', 0.9209197759628296), ('포토', 0.9188222885131836), ('책', 0.918024480342865), ('색연필', 0.9109113812446594), ('레코드', 0.9088258743286133)]\n"
     ]
    }
   ],
   "source": [
    "from gensim.models import word2vec\n",
    "\n",
    "model = word2vec.Word2Vec.load(\"NaverMovie4.model\")\n",
    "\n",
    "print(model.wv.most_similar(positive=[\"다이어리\"]))"
   ]
  },
  {
   "cell_type": "code",
   "execution_count": 166,
   "metadata": {},
   "outputs": [
    {
     "name": "stdout",
     "output_type": "stream",
     "text": [
      "[('연주', 0.9010319709777832), ('음반', 0.8935613036155701), ('코스', 0.8831673860549927), ('월드', 0.8783609867095947), ('붕괴', 0.875507116317749), ('EP', 0.8723244667053223), ('SF', 0.8713623881340027), ('첫', 0.8684521913528442), ('온라인', 0.8668563365936279), ('『', 0.8647353649139404)]\n"
     ]
    }
   ],
   "source": [
    "from gensim.models import word2vec\n",
    "\n",
    "model = word2vec.Word2Vec.load(\"NaverMovie4.model\")\n",
    "\n",
    "print(model.wv.most_similar(positive=[\"공연\"]))"
   ]
  },
  {
   "cell_type": "code",
   "execution_count": null,
   "metadata": {},
   "outputs": [],
   "source": [
    "<텀블벅 인기 검색어>"
   ]
  },
  {
   "cell_type": "code",
   "execution_count": 167,
   "metadata": {},
   "outputs": [
    {
     "name": "stdout",
     "output_type": "stream",
     "text": [
      "[('배경', 0.9457932114601135), ('웹툰', 0.9378014802932739), ('무협', 0.9320603013038635), ('실', 0.9279384613037109), ('사극', 0.9265174865722656), ('마을', 0.9245707988739014), ('판타지', 0.9223780632019043), ('세렌', 0.9168083667755127), ('왕궁', 0.9167461395263672), ('아파트', 0.916702151298523)]\n"
     ]
    }
   ],
   "source": [
    "from gensim.models import word2vec\n",
    "\n",
    "model = word2vec.Word2Vec.load(\"NaverMovie4.model\")\n",
    "\n",
    "print(model.wv.most_similar(positive=[\"스케치업\"]))"
   ]
  },
  {
   "cell_type": "code",
   "execution_count": 168,
   "metadata": {},
   "outputs": [
    {
     "name": "stdout",
     "output_type": "stream",
     "text": [
      "[('배경', 0.9502184987068176), ('세렌', 0.946009635925293), ('실', 0.9433565139770508), ('무협', 0.9431880712509155), ('성안', 0.9426881670951843), ('주택가', 0.9418654441833496), ('성곽', 0.9381887912750244), ('스케치업', 0.9378014802932739), ('사극', 0.9361944794654846), ('펜트하우스', 0.9324336647987366)]\n"
     ]
    }
   ],
   "source": [
    "from gensim.models import word2vec\n",
    "\n",
    "model = word2vec.Word2Vec.load(\"NaverMovie4.model\")\n",
    "\n",
    "print(model.wv.most_similar(positive=[\"웹툰\"]))"
   ]
  },
  {
   "cell_type": "code",
   "execution_count": 170,
   "metadata": {},
   "outputs": [
    {
     "name": "stdout",
     "output_type": "stream",
     "text": [
      "[('기록', 0.9501786231994629), ('청춘', 0.9349954128265381), ('에세이', 0.9336292147636414), ('기억', 0.9289453029632568), ('일기', 0.9246752262115479), ('이름', 0.9209197759628296), ('포토', 0.9188222885131836), ('책', 0.918024480342865), ('색연필', 0.9109113812446594), ('레코드', 0.9088258743286133)]\n"
     ]
    }
   ],
   "source": [
    "from gensim.models import word2vec\n",
    "\n",
    "model = word2vec.Word2Vec.load(\"NaverMovie4.model\")\n",
    "\n",
    "print(model.wv.most_similar(positive=[\"다이어리\"]))"
   ]
  },
  {
   "cell_type": "code",
   "execution_count": 169,
   "metadata": {},
   "outputs": [
    {
     "name": "stdout",
     "output_type": "stream",
     "text": [
      "[('향', 0.9219611883163452), ('향기', 0.9070906043052673), ('Yay', 0.8998153209686279), ('품다', 0.8731683492660522), ('압생트', 0.8729231357574463), ('호수', 0.8716822862625122), ('Freesia', 0.8715513348579407), ('달', 0.8612521886825562), ('프리지아', 0.8575802445411682), ('모히또', 0.8566244840621948)]\n"
     ]
    }
   ],
   "source": [
    "from gensim.models import word2vec\n",
    "\n",
    "model = word2vec.Word2Vec.load(\"NaverMovie4.model\")\n",
    "\n",
    "print(model.wv.most_similar(positive=[\"향수\"]))"
   ]
  },
  {
   "cell_type": "code",
   "execution_count": 171,
   "metadata": {},
   "outputs": [
    {
     "ename": "KeyError",
     "evalue": "\"word '바름이 다이어리' not in vocabulary\"",
     "output_type": "error",
     "traceback": [
      "\u001b[1;31m---------------------------------------------------------------------------\u001b[0m",
      "\u001b[1;31mKeyError\u001b[0m                                  Traceback (most recent call last)",
      "\u001b[1;32m<ipython-input-171-7b182b86aad0>\u001b[0m in \u001b[0;36m<module>\u001b[1;34m\u001b[0m\n\u001b[0;32m      3\u001b[0m \u001b[0mmodel\u001b[0m \u001b[1;33m=\u001b[0m \u001b[0mword2vec\u001b[0m\u001b[1;33m.\u001b[0m\u001b[0mWord2Vec\u001b[0m\u001b[1;33m.\u001b[0m\u001b[0mload\u001b[0m\u001b[1;33m(\u001b[0m\u001b[1;34m\"NaverMovie4.model\"\u001b[0m\u001b[1;33m)\u001b[0m\u001b[1;33m\u001b[0m\u001b[1;33m\u001b[0m\u001b[0m\n\u001b[0;32m      4\u001b[0m \u001b[1;33m\u001b[0m\u001b[0m\n\u001b[1;32m----> 5\u001b[1;33m \u001b[0mprint\u001b[0m\u001b[1;33m(\u001b[0m\u001b[0mmodel\u001b[0m\u001b[1;33m.\u001b[0m\u001b[0mwv\u001b[0m\u001b[1;33m.\u001b[0m\u001b[0mmost_similar\u001b[0m\u001b[1;33m(\u001b[0m\u001b[0mpositive\u001b[0m\u001b[1;33m=\u001b[0m\u001b[1;33m[\u001b[0m\u001b[1;34m\"바름이 다이어리\"\u001b[0m\u001b[1;33m]\u001b[0m\u001b[1;33m)\u001b[0m\u001b[1;33m)\u001b[0m\u001b[1;33m\u001b[0m\u001b[1;33m\u001b[0m\u001b[0m\n\u001b[0m",
      "\u001b[1;32m~\\anaconda3\\lib\\site-packages\\gensim\\models\\keyedvectors.py\u001b[0m in \u001b[0;36mmost_similar\u001b[1;34m(self, positive, negative, topn, restrict_vocab, indexer)\u001b[0m\n\u001b[0;32m    551\u001b[0m                 \u001b[0mmean\u001b[0m\u001b[1;33m.\u001b[0m\u001b[0mappend\u001b[0m\u001b[1;33m(\u001b[0m\u001b[0mweight\u001b[0m \u001b[1;33m*\u001b[0m \u001b[0mword\u001b[0m\u001b[1;33m)\u001b[0m\u001b[1;33m\u001b[0m\u001b[1;33m\u001b[0m\u001b[0m\n\u001b[0;32m    552\u001b[0m             \u001b[1;32melse\u001b[0m\u001b[1;33m:\u001b[0m\u001b[1;33m\u001b[0m\u001b[1;33m\u001b[0m\u001b[0m\n\u001b[1;32m--> 553\u001b[1;33m                 \u001b[0mmean\u001b[0m\u001b[1;33m.\u001b[0m\u001b[0mappend\u001b[0m\u001b[1;33m(\u001b[0m\u001b[0mweight\u001b[0m \u001b[1;33m*\u001b[0m \u001b[0mself\u001b[0m\u001b[1;33m.\u001b[0m\u001b[0mword_vec\u001b[0m\u001b[1;33m(\u001b[0m\u001b[0mword\u001b[0m\u001b[1;33m,\u001b[0m \u001b[0muse_norm\u001b[0m\u001b[1;33m=\u001b[0m\u001b[1;32mTrue\u001b[0m\u001b[1;33m)\u001b[0m\u001b[1;33m)\u001b[0m\u001b[1;33m\u001b[0m\u001b[1;33m\u001b[0m\u001b[0m\n\u001b[0m\u001b[0;32m    554\u001b[0m                 \u001b[1;32mif\u001b[0m \u001b[0mword\u001b[0m \u001b[1;32min\u001b[0m \u001b[0mself\u001b[0m\u001b[1;33m.\u001b[0m\u001b[0mvocab\u001b[0m\u001b[1;33m:\u001b[0m\u001b[1;33m\u001b[0m\u001b[1;33m\u001b[0m\u001b[0m\n\u001b[0;32m    555\u001b[0m                     \u001b[0mall_words\u001b[0m\u001b[1;33m.\u001b[0m\u001b[0madd\u001b[0m\u001b[1;33m(\u001b[0m\u001b[0mself\u001b[0m\u001b[1;33m.\u001b[0m\u001b[0mvocab\u001b[0m\u001b[1;33m[\u001b[0m\u001b[0mword\u001b[0m\u001b[1;33m]\u001b[0m\u001b[1;33m.\u001b[0m\u001b[0mindex\u001b[0m\u001b[1;33m)\u001b[0m\u001b[1;33m\u001b[0m\u001b[1;33m\u001b[0m\u001b[0m\n",
      "\u001b[1;32m~\\anaconda3\\lib\\site-packages\\gensim\\models\\keyedvectors.py\u001b[0m in \u001b[0;36mword_vec\u001b[1;34m(self, word, use_norm)\u001b[0m\n\u001b[0;32m    466\u001b[0m             \u001b[1;32mreturn\u001b[0m \u001b[0mresult\u001b[0m\u001b[1;33m\u001b[0m\u001b[1;33m\u001b[0m\u001b[0m\n\u001b[0;32m    467\u001b[0m         \u001b[1;32melse\u001b[0m\u001b[1;33m:\u001b[0m\u001b[1;33m\u001b[0m\u001b[1;33m\u001b[0m\u001b[0m\n\u001b[1;32m--> 468\u001b[1;33m             \u001b[1;32mraise\u001b[0m \u001b[0mKeyError\u001b[0m\u001b[1;33m(\u001b[0m\u001b[1;34m\"word '%s' not in vocabulary\"\u001b[0m \u001b[1;33m%\u001b[0m \u001b[0mword\u001b[0m\u001b[1;33m)\u001b[0m\u001b[1;33m\u001b[0m\u001b[1;33m\u001b[0m\u001b[0m\n\u001b[0m\u001b[0;32m    469\u001b[0m \u001b[1;33m\u001b[0m\u001b[0m\n\u001b[0;32m    470\u001b[0m     \u001b[1;32mdef\u001b[0m \u001b[0mget_vector\u001b[0m\u001b[1;33m(\u001b[0m\u001b[0mself\u001b[0m\u001b[1;33m,\u001b[0m \u001b[0mword\u001b[0m\u001b[1;33m)\u001b[0m\u001b[1;33m:\u001b[0m\u001b[1;33m\u001b[0m\u001b[1;33m\u001b[0m\u001b[0m\n",
      "\u001b[1;31mKeyError\u001b[0m: \"word '바름이 다이어리' not in vocabulary\""
     ]
    }
   ],
   "source": [
    "from gensim.models import word2vec\n",
    "\n",
    "model = word2vec.Word2Vec.load(\"NaverMovie4.model\")\n",
    "\n",
    "print(model.wv.most_similar(positive=[\"바름이 다이어리\"]))"
   ]
  },
  {
   "cell_type": "code",
   "execution_count": 172,
   "metadata": {},
   "outputs": [
    {
     "name": "stdout",
     "output_type": "stream",
     "text": [
      "[('모찌', 0.9434399008750916), ('파댕', 0.8748658895492554), ('새', 0.8691418170928955), ('문화', 0.845909595489502), ('창작', 0.8453412055969238), ('파스텔', 0.8446429967880249), ('농담', 0.8426494002342224), ('타로카드', 0.841259241104126), ('여름', 0.8412590026855469), ('멍청새', 0.8405951261520386)]\n"
     ]
    }
   ],
   "source": [
    "from gensim.models import word2vec\n",
    "\n",
    "model = word2vec.Word2Vec.load(\"NaverMovie4.model\")\n",
    "\n",
    "print(model.wv.most_similar(positive=[\"인형\"]))"
   ]
  },
  {
   "cell_type": "code",
   "execution_count": 173,
   "metadata": {},
   "outputs": [
    {
     "name": "stdout",
     "output_type": "stream",
     "text": [
      "[('쿤', 0.9155774116516113), ('평등', 0.9131397008895874), ('릴레이', 0.9091314077377319), ('종류', 0.9067310690879822), ('차려', 0.8974425196647644), ('Vo', 0.8924081921577454), ('개벽', 0.892357587814331), ('광장', 0.8912979960441589), ('사장', 0.8899569511413574), ('박창수', 0.8888334035873413)]\n"
     ]
    }
   ],
   "source": [
    "from gensim.models import word2vec\n",
    "\n",
    "model = word2vec.Word2Vec.load(\"NaverMovie4.model\")\n",
    "\n",
    "print(model.wv.most_similar(positive=[\"보드게임\"]))"
   ]
  },
  {
   "cell_type": "code",
   "execution_count": 174,
   "metadata": {},
   "outputs": [
    {
     "name": "stdout",
     "output_type": "stream",
     "text": [
      "[('백', 0.9387608766555786), ('토트', 0.9243316650390625), ('변신', 0.9024496078491211), ('미니', 0.8886826038360596), ('숄더', 0.8867869973182678), ('멀티', 0.8832247853279114), ('크로스', 0.8787586688995361), ('수납', 0.8729596734046936), ('편견', 0.8623068928718567), ('가볍다', 0.8565479516983032)]\n"
     ]
    }
   ],
   "source": [
    "from gensim.models import word2vec\n",
    "\n",
    "model = word2vec.Word2Vec.load(\"NaverMovie4.model\")\n",
    "\n",
    "print(model.wv.most_similar(positive=[\"가방\"]))"
   ]
  },
  {
   "cell_type": "code",
   "execution_count": 175,
   "metadata": {},
   "outputs": [
    {
     "name": "stdout",
     "output_type": "stream",
     "text": [
      "[('파도', 0.9380310773849487), ('사람', 0.9202982187271118), ('일기', 0.9202365875244141), ('부산', 0.9187898635864258), ('잡지', 0.9182844758033752), ('함께', 0.915751576423645), ('가게', 0.914509117603302), ('호', 0.9126330614089966), ('미술', 0.9115922451019287), ('포토', 0.9104450941085815)]\n"
     ]
    }
   ],
   "source": [
    "from gensim.models import word2vec\n",
    "\n",
    "model = word2vec.Word2Vec.load(\"NaverMovie4.model\")\n",
    "\n",
    "print(model.wv.most_similar(positive=[\"뱃지\"]))"
   ]
  },
  {
   "cell_type": "code",
   "execution_count": 176,
   "metadata": {},
   "outputs": [
    {
     "name": "stdout",
     "output_type": "stream",
     "text": [
      "[('문', 0.9348120093345642), ('장식', 0.9229380488395691), ('풍', 0.9196145534515381), ('무늬', 0.9195617437362671), ('장신구', 0.9121577143669128), ('패턴', 0.9118117094039917), ('동양', 0.908839225769043), ('로판', 0.9085091352462769), ('나무', 0.9038063287734985), ('프릴', 0.9023747444152832)]\n"
     ]
    }
   ],
   "source": [
    "from gensim.models import word2vec\n",
    "\n",
    "model = word2vec.Word2Vec.load(\"NaverMovie4.model\")\n",
    "\n",
    "print(model.wv.most_similar(positive=[\"브러쉬\"]))"
   ]
  },
  {
   "cell_type": "code",
   "execution_count": null,
   "metadata": {},
   "outputs": [],
   "source": [
    "<와디즈 인기 검색어>"
   ]
  },
  {
   "cell_type": "code",
   "execution_count": 177,
   "metadata": {},
   "outputs": [
    {
     "name": "stdout",
     "output_type": "stream",
     "text": [
      "[('백', 0.9387608766555786), ('토트', 0.9243316650390625), ('변신', 0.9024496078491211), ('미니', 0.8886826038360596), ('숄더', 0.8867869973182678), ('멀티', 0.8832247853279114), ('크로스', 0.8787586688995361), ('수납', 0.8729596734046936), ('편견', 0.8623068928718567), ('가볍다', 0.8565479516983032)]\n"
     ]
    }
   ],
   "source": [
    "from gensim.models import word2vec\n",
    "\n",
    "model = word2vec.Word2Vec.load(\"NaverMovie4.model\")\n",
    "\n",
    "print(model.wv.most_similar(positive=[\"가방\"]))"
   ]
  },
  {
   "cell_type": "code",
   "execution_count": 178,
   "metadata": {},
   "outputs": [
    {
     "name": "stdout",
     "output_type": "stream",
     "text": [
      "[('테이블', 0.9019212126731873), ('핏', 0.8761032819747925), ('난로', 0.871056854724884), ('웜', 0.8615246415138245), ('박홍근', 0.8610066175460815), ('하이', 0.8573305606842041), ('화로', 0.8558512926101685), ('부뚜막', 0.8557958602905273), ('화목', 0.8549832701683044), ('크리스탈', 0.8536856174468994)]\n"
     ]
    }
   ],
   "source": [
    "from gensim.models import word2vec\n",
    "\n",
    "model = word2vec.Word2Vec.load(\"NaverMovie4.model\")\n",
    "\n",
    "print(model.wv.most_similar(positive=[\"캠핑\"]))"
   ]
  },
  {
   "cell_type": "code",
   "execution_count": 179,
   "metadata": {},
   "outputs": [
    {
     "name": "stdout",
     "output_type": "stream",
     "text": [
      "[('항균', 0.8890963792800903), ('닥나무', 0.8683760762214661), ('민감', 0.8534430265426636), ('통', 0.8371858596801758), ('알러지', 0.8306043148040771), ('끈', 0.8236003518104553), ('지킴', 0.8205705881118774), ('수로', 0.8186619877815247), ('그래핀', 0.8174867033958435), ('늘다', 0.8155977725982666)]\n"
     ]
    }
   ],
   "source": [
    "from gensim.models import word2vec\n",
    "\n",
    "model = word2vec.Word2Vec.load(\"NaverMovie4.model\")\n",
    "\n",
    "print(model.wv.most_similar(positive=[\"마스크\"]))"
   ]
  },
  {
   "cell_type": "code",
   "execution_count": 180,
   "metadata": {},
   "outputs": [
    {
     "name": "stdout",
     "output_type": "stream",
     "text": [
      "[('집사', 0.9244726300239563), ('모래', 0.8805899620056152), ('캣', 0.8800835609436035), ('달력', 0.8527491688728333), ('캘린더', 0.8430436849594116), ('와썹', 0.8422021865844727), ('이름', 0.8374377489089966), ('거나', 0.8334998488426208), ('유령', 0.8321343660354614), ('민화', 0.8293588161468506)]\n"
     ]
    }
   ],
   "source": [
    "from gensim.models import word2vec\n",
    "\n",
    "model = word2vec.Word2Vec.load(\"NaverMovie4.model\")\n",
    "\n",
    "print(model.wv.most_similar(positive=[\"고양이\"]))"
   ]
  },
  {
   "cell_type": "code",
   "execution_count": 181,
   "metadata": {},
   "outputs": [
    {
     "ename": "KeyError",
     "evalue": "\"word '업사이클링' not in vocabulary\"",
     "output_type": "error",
     "traceback": [
      "\u001b[1;31m---------------------------------------------------------------------------\u001b[0m",
      "\u001b[1;31mKeyError\u001b[0m                                  Traceback (most recent call last)",
      "\u001b[1;32m<ipython-input-181-5b95c320487c>\u001b[0m in \u001b[0;36m<module>\u001b[1;34m\u001b[0m\n\u001b[0;32m      3\u001b[0m \u001b[0mmodel\u001b[0m \u001b[1;33m=\u001b[0m \u001b[0mword2vec\u001b[0m\u001b[1;33m.\u001b[0m\u001b[0mWord2Vec\u001b[0m\u001b[1;33m.\u001b[0m\u001b[0mload\u001b[0m\u001b[1;33m(\u001b[0m\u001b[1;34m\"NaverMovie4.model\"\u001b[0m\u001b[1;33m)\u001b[0m\u001b[1;33m\u001b[0m\u001b[1;33m\u001b[0m\u001b[0m\n\u001b[0;32m      4\u001b[0m \u001b[1;33m\u001b[0m\u001b[0m\n\u001b[1;32m----> 5\u001b[1;33m \u001b[0mprint\u001b[0m\u001b[1;33m(\u001b[0m\u001b[0mmodel\u001b[0m\u001b[1;33m.\u001b[0m\u001b[0mwv\u001b[0m\u001b[1;33m.\u001b[0m\u001b[0mmost_similar\u001b[0m\u001b[1;33m(\u001b[0m\u001b[0mpositive\u001b[0m\u001b[1;33m=\u001b[0m\u001b[1;33m[\u001b[0m\u001b[1;34m\"업사이클링\"\u001b[0m\u001b[1;33m]\u001b[0m\u001b[1;33m)\u001b[0m\u001b[1;33m)\u001b[0m\u001b[1;33m\u001b[0m\u001b[1;33m\u001b[0m\u001b[0m\n\u001b[0m",
      "\u001b[1;32m~\\anaconda3\\lib\\site-packages\\gensim\\models\\keyedvectors.py\u001b[0m in \u001b[0;36mmost_similar\u001b[1;34m(self, positive, negative, topn, restrict_vocab, indexer)\u001b[0m\n\u001b[0;32m    551\u001b[0m                 \u001b[0mmean\u001b[0m\u001b[1;33m.\u001b[0m\u001b[0mappend\u001b[0m\u001b[1;33m(\u001b[0m\u001b[0mweight\u001b[0m \u001b[1;33m*\u001b[0m \u001b[0mword\u001b[0m\u001b[1;33m)\u001b[0m\u001b[1;33m\u001b[0m\u001b[1;33m\u001b[0m\u001b[0m\n\u001b[0;32m    552\u001b[0m             \u001b[1;32melse\u001b[0m\u001b[1;33m:\u001b[0m\u001b[1;33m\u001b[0m\u001b[1;33m\u001b[0m\u001b[0m\n\u001b[1;32m--> 553\u001b[1;33m                 \u001b[0mmean\u001b[0m\u001b[1;33m.\u001b[0m\u001b[0mappend\u001b[0m\u001b[1;33m(\u001b[0m\u001b[0mweight\u001b[0m \u001b[1;33m*\u001b[0m \u001b[0mself\u001b[0m\u001b[1;33m.\u001b[0m\u001b[0mword_vec\u001b[0m\u001b[1;33m(\u001b[0m\u001b[0mword\u001b[0m\u001b[1;33m,\u001b[0m \u001b[0muse_norm\u001b[0m\u001b[1;33m=\u001b[0m\u001b[1;32mTrue\u001b[0m\u001b[1;33m)\u001b[0m\u001b[1;33m)\u001b[0m\u001b[1;33m\u001b[0m\u001b[1;33m\u001b[0m\u001b[0m\n\u001b[0m\u001b[0;32m    554\u001b[0m                 \u001b[1;32mif\u001b[0m \u001b[0mword\u001b[0m \u001b[1;32min\u001b[0m \u001b[0mself\u001b[0m\u001b[1;33m.\u001b[0m\u001b[0mvocab\u001b[0m\u001b[1;33m:\u001b[0m\u001b[1;33m\u001b[0m\u001b[1;33m\u001b[0m\u001b[0m\n\u001b[0;32m    555\u001b[0m                     \u001b[0mall_words\u001b[0m\u001b[1;33m.\u001b[0m\u001b[0madd\u001b[0m\u001b[1;33m(\u001b[0m\u001b[0mself\u001b[0m\u001b[1;33m.\u001b[0m\u001b[0mvocab\u001b[0m\u001b[1;33m[\u001b[0m\u001b[0mword\u001b[0m\u001b[1;33m]\u001b[0m\u001b[1;33m.\u001b[0m\u001b[0mindex\u001b[0m\u001b[1;33m)\u001b[0m\u001b[1;33m\u001b[0m\u001b[1;33m\u001b[0m\u001b[0m\n",
      "\u001b[1;32m~\\anaconda3\\lib\\site-packages\\gensim\\models\\keyedvectors.py\u001b[0m in \u001b[0;36mword_vec\u001b[1;34m(self, word, use_norm)\u001b[0m\n\u001b[0;32m    466\u001b[0m             \u001b[1;32mreturn\u001b[0m \u001b[0mresult\u001b[0m\u001b[1;33m\u001b[0m\u001b[1;33m\u001b[0m\u001b[0m\n\u001b[0;32m    467\u001b[0m         \u001b[1;32melse\u001b[0m\u001b[1;33m:\u001b[0m\u001b[1;33m\u001b[0m\u001b[1;33m\u001b[0m\u001b[0m\n\u001b[1;32m--> 468\u001b[1;33m             \u001b[1;32mraise\u001b[0m \u001b[0mKeyError\u001b[0m\u001b[1;33m(\u001b[0m\u001b[1;34m\"word '%s' not in vocabulary\"\u001b[0m \u001b[1;33m%\u001b[0m \u001b[0mword\u001b[0m\u001b[1;33m)\u001b[0m\u001b[1;33m\u001b[0m\u001b[1;33m\u001b[0m\u001b[0m\n\u001b[0m\u001b[0;32m    469\u001b[0m \u001b[1;33m\u001b[0m\u001b[0m\n\u001b[0;32m    470\u001b[0m     \u001b[1;32mdef\u001b[0m \u001b[0mget_vector\u001b[0m\u001b[1;33m(\u001b[0m\u001b[0mself\u001b[0m\u001b[1;33m,\u001b[0m \u001b[0mword\u001b[0m\u001b[1;33m)\u001b[0m\u001b[1;33m:\u001b[0m\u001b[1;33m\u001b[0m\u001b[1;33m\u001b[0m\u001b[0m\n",
      "\u001b[1;31mKeyError\u001b[0m: \"word '업사이클링' not in vocabulary\""
     ]
    }
   ],
   "source": [
    "from gensim.models import word2vec\n",
    "\n",
    "model = word2vec.Word2Vec.load(\"NaverMovie4.model\")\n",
    "\n",
    "print(model.wv.most_similar(positive=[\"업사이클링\"]))"
   ]
  },
  {
   "cell_type": "code",
   "execution_count": 182,
   "metadata": {},
   "outputs": [
    {
     "name": "stdout",
     "output_type": "stream",
     "text": [
      "[('굿샷', 0.9659364223480225), ('키토', 0.959865152835846), ('클라스', 0.9543185234069824), ('흙', 0.949846625328064), ('오가다', 0.949800431728363), ('쉐프', 0.9484556913375854), ('문방사우', 0.9480116367340088), ('수축', 0.9475740194320679), ('창의', 0.9473299980163574), ('순딩겔', 0.9468737840652466)]\n"
     ]
    }
   ],
   "source": [
    "from gensim.models import word2vec\n",
    "\n",
    "model = word2vec.Word2Vec.load(\"NaverMovie4.model\")\n",
    "\n",
    "print(model.wv.most_similar(positive=[\"오일\"]))"
   ]
  },
  {
   "cell_type": "code",
   "execution_count": 183,
   "metadata": {},
   "outputs": [
    {
     "name": "stdout",
     "output_type": "stream",
     "text": [
      "[('이동', 0.9239652156829834), ('조각보', 0.8925089836120605), ('방검', 0.8884976506233215), ('소매치기', 0.8870208263397217), ('달리기', 0.8840299248695374), ('가든', 0.883407473564148), ('금손', 0.8807787895202637), ('세번', 0.8787211179733276), ('매번', 0.8763986229896545), ('큰일', 0.8755388259887695)]\n"
     ]
    }
   ],
   "source": [
    "from gensim.models import word2vec\n",
    "\n",
    "model = word2vec.Word2Vec.load(\"NaverMovie4.model\")\n",
    "\n",
    "print(model.wv.most_similar(positive=[\"반려동물\"]))"
   ]
  },
  {
   "cell_type": "code",
   "execution_count": 184,
   "metadata": {},
   "outputs": [
    {
     "name": "stdout",
     "output_type": "stream",
     "text": [
      "[('삭스', 0.9607365131378174), ('메리노', 0.9184025526046753), ('하의', 0.8989231586456299), ('하이', 0.8943212032318115), ('남', 0.8934653997421265), ('폴라', 0.8925575613975525), ('캡슐', 0.8913084268569946), ('완료', 0.884801983833313), ('신다', 0.883834719657898), ('각', 0.8827325701713562)]\n"
     ]
    }
   ],
   "source": [
    "from gensim.models import word2vec\n",
    "\n",
    "model = word2vec.Word2Vec.load(\"NaverMovie4.model\")\n",
    "\n",
    "print(model.wv.most_similar(positive=[\"양말\"]))"
   ]
  },
  {
   "cell_type": "code",
   "execution_count": 187,
   "metadata": {},
   "outputs": [
    {
     "name": "stdout",
     "output_type": "stream",
     "text": [
      "[('경주', 0.9924514293670654), ('마그넷', 0.9760274887084961), ('조구만', 0.9642965197563171), ('담화', 0.9630261063575745), ('감사', 0.9628794193267822), ('범람', 0.9617660045623779), ('눈썹', 0.9606430530548096), ('지난', 0.9600331783294678), ('은혜', 0.9599746465682983), ('나태주', 0.9594208002090454)]\n"
     ]
    }
   ],
   "source": [
    "from gensim.models import word2vec\n",
    "\n",
    "model = word2vec.Word2Vec.load(\"NaverMovie4.model\")\n",
    "\n",
    "print(model.wv.most_similar(positive=[\"폴라로이드\"])) #원래 필라로이드-x"
   ]
  },
  {
   "cell_type": "code",
   "execution_count": 185,
   "metadata": {},
   "outputs": [
    {
     "name": "stdout",
     "output_type": "stream",
     "text": [
      "[('지폐', 0.9190073013305664), ('동전', 0.8935567140579224), ('업그레이드', 0.8754324913024902), ('핸드폰', 0.8746213316917419), ('폰', 0.8684797883033752), ('베지터블', 0.8678779602050781), ('연', 0.8668179512023926), ('각인', 0.8667933344841003), ('악세사리', 0.8656425476074219), ('월렛', 0.8650721311569214)]\n"
     ]
    }
   ],
   "source": [
    "from gensim.models import word2vec\n",
    "\n",
    "model = word2vec.Word2Vec.load(\"NaverMovie4.model\")\n",
    "\n",
    "print(model.wv.most_similar(positive=[\"지갑\"]))"
   ]
  },
  {
   "cell_type": "code",
   "execution_count": null,
   "metadata": {},
   "outputs": [],
   "source": []
  }
 ],
 "metadata": {
  "kernelspec": {
   "display_name": "Python 3",
   "language": "python",
   "name": "python3"
  },
  "language_info": {
   "codemirror_mode": {
    "name": "ipython",
    "version": 3
   },
   "file_extension": ".py",
   "mimetype": "text/x-python",
   "name": "python",
   "nbconvert_exporter": "python",
   "pygments_lexer": "ipython3",
   "version": "3.8.3"
  }
 },
 "nbformat": 4,
 "nbformat_minor": 4
}
