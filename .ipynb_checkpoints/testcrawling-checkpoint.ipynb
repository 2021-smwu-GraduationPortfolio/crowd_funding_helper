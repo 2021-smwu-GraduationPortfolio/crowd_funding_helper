{
 "cells": [
  {
   "cell_type": "code",
   "execution_count": 41,
   "metadata": {
    "scrolled": true
   },
   "outputs": [],
   "source": [
    "from urllib.request import urlopen\n",
    "from bs4 import BeautifulSoup\n",
    "import requests\n",
    "\n",
    "url = \"https://tumblbug.com/discover?ongoing=onGoing\"\n",
    "\n",
    "#html = urlopen(\"https://tumblbug.com/discover?ongoing=onGoing\")\n",
    "#bsObject = BeautifulSoup(html, \"html.parser\")\n",
    "\n",
    "\n",
    "html = requests.get(url).text\n",
    "#html\n",
    "#print(bsObject)"
   ]
  },
  {
   "cell_type": "code",
   "execution_count": 37,
   "metadata": {
    "scrolled": false
   },
   "outputs": [],
   "source": [
    "#from selenium import webdriver\n",
    "#import time\n",
    "\n",
    "#chromedriver = 'C:/Users/ljy01/Desktop/chromedriver/chromedriver_win32/chromedriver.exe'\n",
    "#driver = webdriver.Chrome(chromedriver)\n",
    "\n",
    "#driver.get('https://tumblbug.com/discover?category=app&ongoing=onGoing')\n",
    "\n",
    "#print(\"+\" * 100)\n",
    "#print(driver.title)\n",
    "#print(driver.current_url)\n",
    "#print(\"텀블벅 크롤링\")\n",
    "#print(\"-\" * 100)\n",
    "\n",
    "#a_tag = driver.find_elements_by_tag_name('a')\n",
    "#href_text=a_tag.get_attribute('href')\n",
    "\n",
    "#print(href_text)"
   ]
  },
  {
   "cell_type": "code",
   "execution_count": 36,
   "metadata": {
    "scrolled": false
   },
   "outputs": [
    {
     "name": "stdout",
     "output_type": "stream",
     "text": [
      "달성 금액: \n",
      "24769000\n",
      "\n",
      "카테고리: \n",
      "만화책\n",
      "\n",
      "프로젝트명 및 summary:\n",
      "비를 맞은 사람은 사라진다. <백일우>\n",
      "\n",
      "브랜드:\n",
      "목인\n",
      "\n",
      "남은 기간:\n",
      "0\n",
      "\n",
      "달성률:\n",
      "619\n"
     ]
    }
   ],
   "source": [
    "import time\n",
    "from selenium import webdriver\n",
    "import requests\n",
    "from bs4 import BeautifulSoup\n",
    "from bs4.element import NavigableString\n",
    "\n",
    "#url\n",
    "#mainurl\n",
    "#main_url = \"https://tumblbug.com/discover?ongoing=onGoing&sort=endedAt\"\n",
    "#suburl\n",
    "sub_url = \"https://tumblbug.com/100rain?ref=discover\"\n",
    "\n",
    "chromedriver = 'C:/Users/ljy01/Desktop/chromedriver/chromedriver_win32/chromedriver.exe'\n",
    "driver = webdriver.Chrome(chromedriver)\n",
    "\n",
    "#subpage\n",
    "driver.get(sub_url)\n",
    "sub_html = driver.page_source \n",
    "\n",
    "#mainpage\n",
    "#driver.get(main_url)\n",
    "#main_html = driver.page_source\n",
    "\n",
    "sub_soup = BeautifulSoup(sub_html, 'html.parser')\n",
    "\n",
    "projectName = sub_soup.select('#react-view > div.ProjectIntroduction__ProjectIntroductionBackground-sc-1o2ojgb-0.gsZkXT > div > div > div.ProjectIntroduction__ProjectOutline-sc-1o2ojgb-2.jbdzfG > div > h1')\n",
    "brand = sub_soup.select('#react-view > div.ProjectIntroduction__ProjectIntroductionBackground-sc-1o2ojgb-0.gsZkXT > div > div > div.ProjectIntroduction__ProjectOutline-sc-1o2ojgb-2.jbdzfG > div > div > a')\n",
    "category = sub_soup.select('#react-view > div.ProjectIntroduction__ProjectIntroductionBackground-sc-1o2ojgb-0.gsZkXT > div > div > div.ProjectIntroduction__ProjectOutline-sc-1o2ojgb-2.jbdzfG > div > a > span')\n",
    "collection = sub_soup.find('div',attrs={'class': 'ProjectIntroduction__StatusValue-sc-1o2ojgb-16 lgJcVA'})\n",
    "#collection = sub_soup.select('#react-view > div.ProjectIntroduction__ProjectIntroductionBackground-sc-1o2ojgb-0.gsZkXT > div > div > aside > div.ProjectIntroduction__FundingStatus-sc-1o2ojgb-13.jqTlEc > div:nth-child(1) > div.ProjectIntroduction__StatusValue-sc-1o2ojgb-16.lgJcVA').span.replace_with(\"\")\n",
    "remain_day = sub_soup.select('#react-view > div.ProjectIntroduction__ProjectIntroductionBackground-sc-1o2ojgb-0.gsZkXT > div > div > aside > div.ProjectIntroduction__FundingStatus-sc-1o2ojgb-13.jqTlEc > div:nth-child(2) > div.ProjectIntroduction__StatusValue-sc-1o2ojgb-16.lgJcVA')\n",
    "percentarchived = sub_soup.select('#react-view > div.ProjectIntroduction__ProjectIntroductionBackground-sc-1o2ojgb-0.gsZkXT > div > div > aside > div.ProjectIntroduction__FundingStatus-sc-1o2ojgb-13.jqTlEc > div:nth-child(1) > div.ProjectIntroduction__StatusValue-sc-1o2ojgb-16.lgJcVA > span.ProjectIntroduction__FundingRate-sc-1o2ojgb-17.cNDicH')\n",
    "#sucessCriteria=100 fix (if site===tumblbug)\n",
    "#site = tumblbug\n",
    "#productOption = \n",
    "#productPrice = \n",
    "\n",
    "print(\"달성 금액: \")\n",
    "for tag in collection(['span']):\n",
    "    tag.replace_with('')\n",
    "strcollection = collection.text.replace(\",\",\"\")\n",
    "print(strcollection)\n",
    "\n",
    "print('\\n'+\"카테고리: \")\n",
    "for i in category:\n",
    "    print(i.text.strip())\n",
    "          \n",
    "print('\\n'+\"프로젝트명 및 summary:\")\n",
    "for i in projectName: \n",
    "    print(i.text.strip())\n",
    "\n",
    "print('\\n'+\"브랜드:\")\n",
    "for i in brand: #프로젝트 주최자-브랜드 출력\n",
    "    print(i.text.strip())\n",
    "\n",
    "print('\\n'+\"남은 기간:\")\n",
    "for i in remain_day:\n",
    "    day = i.text.strip()\n",
    "daynum = len(day)\n",
    "print(day[:daynum-1])\n",
    "\n",
    "print('\\n'+\"달성률:\")\n",
    "for i in percentarchived:\n",
    "    pt = i.text.strip()\n",
    "ptnum = len(pt)\n",
    "print(pt[:ptnum-1])"
   ]
  },
  {
   "cell_type": "code",
   "execution_count": 7,
   "metadata": {},
   "outputs": [
    {
     "ename": "SyntaxError",
     "evalue": "invalid syntax (<ipython-input-7-cdc9e81e870c>, line 1)",
     "output_type": "error",
     "traceback": [
      "\u001b[1;36m  File \u001b[1;32m\"<ipython-input-7-cdc9e81e870c>\"\u001b[1;36m, line \u001b[1;32m1\u001b[0m\n\u001b[1;33m    [object] <class 'bs4.element.NavigableString'>\u001b[0m\n\u001b[1;37m              ^\u001b[0m\n\u001b[1;31mSyntaxError\u001b[0m\u001b[1;31m:\u001b[0m invalid syntax\n"
     ]
    }
   ],
   "source": [
    "[object] <class 'bs4.element.NavigableString'> \n",
    "[repr]\n",
    "24,504,000\n",
    "-----\n",
    "[object] <class 'bs4.element.Tag'>\n",
    "[repr]\n",
    "<span class=\"ProjectIntroduction__Small-sc-1o2ojgb-18 lnSbIU\">원</span>\n",
    "-----\n",
    "[object] <class 'bs4.element.Tag'>\n",
    "[repr]\n",
    "<span class=\"ProjectIntroduction__FundingRate-sc-1o2ojgb-17 cNDicH\">612<!-- -->%</span>\n",
    "-----\n",
    "\n",
    "열림~자식태그 닫기 = NavigableString\n",
    "자식 = tag\n",
    "자식~닫힌태그 = NavigableString"
   ]
  },
  {
   "cell_type": "code",
   "execution_count": null,
   "metadata": {},
   "outputs": [],
   "source": [
    " --> 자식 태그 제거 방법 고민중..\n",
    "#collection = sub_soup.find('div',attrs={'class': 'ProjectIntroduction__StatusValue-sc-1o2ojgb-16 lgJcVA'})\n",
    "#for bs_object in collection:\n",
    " #   print(\"[object]\", type(bs_object))\n",
    "  #  print(\"[repr]\")\n",
    "   # print(bs_object)\n",
    "    #print(\"-----\")\n",
    "#collection = sub_soup.select_one(\"\")\n",
    "#target_tag = sub_soup.select_one(\"#target\")\n",
    "#target_text_without_child_tags = [\n",
    "#    bs_object\n",
    "#    for bs_object\n",
    "#    in target_tag\n",
    "#    if isinstance(bs_object, NavigableString)\n",
    "#]\n",
    "#text = \"\".join(target_text_wichout_child_tags)\n",
    "#print(text)\n"
   ]
  }
 ],
 "metadata": {
  "kernelspec": {
   "display_name": "Python 3",
   "language": "python",
   "name": "python3"
  },
  "language_info": {
   "codemirror_mode": {
    "name": "ipython",
    "version": 3
   },
   "file_extension": ".py",
   "mimetype": "text/x-python",
   "name": "python",
   "nbconvert_exporter": "python",
   "pygments_lexer": "ipython3",
   "version": "3.8.3"
  }
 },
 "nbformat": 4,
 "nbformat_minor": 4
}
